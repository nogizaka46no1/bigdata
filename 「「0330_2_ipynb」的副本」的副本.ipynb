{
  "nbformat": 4,
  "nbformat_minor": 0,
  "metadata": {
    "colab": {
      "name": "「「0330_2.ipynb」的副本」的副本",
      "provenance": [],
      "collapsed_sections": [],
      "include_colab_link": true
    },
    "kernelspec": {
      "name": "ir",
      "display_name": "R"
    }
  },
  "cells": [
    {
      "cell_type": "markdown",
      "metadata": {
        "id": "view-in-github",
        "colab_type": "text"
      },
      "source": [
        "<a href=\"https://colab.research.google.com/github/nogizaka46no1/bigdata/blob/main/%E3%80%8C%E3%80%8C0330_2_ipynb%E3%80%8D%E7%9A%84%E5%89%AF%E6%9C%AC%E3%80%8D%E7%9A%84%E5%89%AF%E6%9C%AC.ipynb\" target=\"_parent\"><img src=\"https://colab.research.google.com/assets/colab-badge.svg\" alt=\"Open In Colab\"/></a>"
      ]
    },
    {
      "cell_type": "code",
      "metadata": {
        "colab": {
          "base_uri": "https://localhost:8080/"
        },
        "id": "ynGc1kN9MqPt",
        "outputId": "541b691b-93d3-4419-db43-273b8d73a7b7"
      },
      "source": [
        "install.packages(\"rJava\")"
      ],
      "execution_count": 1,
      "outputs": [
        {
          "output_type": "stream",
          "text": [
            "Installing package into ‘/usr/local/lib/R/site-library’\n",
            "(as ‘lib’ is unspecified)\n",
            "\n"
          ],
          "name": "stderr"
        }
      ]
    },
    {
      "cell_type": "code",
      "metadata": {
        "colab": {
          "base_uri": "https://localhost:8080/"
        },
        "id": "mudeQPvCMuz4",
        "outputId": "494e76fc-1881-47ff-eacf-07db438b93a6"
      },
      "source": [
        "install.packages(\"jiebaR\")"
      ],
      "execution_count": 2,
      "outputs": [
        {
          "output_type": "stream",
          "text": [
            "Installing package into ‘/usr/local/lib/R/site-library’\n",
            "(as ‘lib’ is unspecified)\n",
            "\n",
            "also installing the dependency ‘jiebaRD’\n",
            "\n",
            "\n"
          ],
          "name": "stderr"
        }
      ]
    },
    {
      "cell_type": "code",
      "metadata": {
        "colab": {
          "base_uri": "https://localhost:8080/"
        },
        "id": "lfKjFtQhNKhC",
        "outputId": "92e61c27-9e29-469b-eb59-60cbf6a5cc37"
      },
      "source": [
        "install.packages(\"tmcn\")"
      ],
      "execution_count": 3,
      "outputs": [
        {
          "output_type": "stream",
          "text": [
            "Installing package into ‘/usr/local/lib/R/site-library’\n",
            "(as ‘lib’ is unspecified)\n",
            "\n"
          ],
          "name": "stderr"
        }
      ]
    },
    {
      "cell_type": "code",
      "metadata": {
        "colab": {
          "base_uri": "https://localhost:8080/"
        },
        "id": "Qf2gg34QNYiG",
        "outputId": "9d3ee8a6-956c-438c-c28a-c470fcffcfa0"
      },
      "source": [
        "install.packages(\"dplyr\")"
      ],
      "execution_count": 4,
      "outputs": [
        {
          "output_type": "stream",
          "text": [
            "Installing package into ‘/usr/local/lib/R/site-library’\n",
            "(as ‘lib’ is unspecified)\n",
            "\n"
          ],
          "name": "stderr"
        }
      ]
    },
    {
      "cell_type": "code",
      "metadata": {
        "colab": {
          "base_uri": "https://localhost:8080/"
        },
        "id": "b8gwdltsNeZV",
        "outputId": "4e013dee-ebdd-4648-84fc-0fd23ba9f7ee"
      },
      "source": [
        "install.packages(\"lubridate\")"
      ],
      "execution_count": 5,
      "outputs": [
        {
          "output_type": "stream",
          "text": [
            "Installing package into ‘/usr/local/lib/R/site-library’\n",
            "(as ‘lib’ is unspecified)\n",
            "\n"
          ],
          "name": "stderr"
        }
      ]
    },
    {
      "cell_type": "code",
      "metadata": {
        "colab": {
          "base_uri": "https://localhost:8080/"
        },
        "id": "m1zvOtoTNqIn",
        "outputId": "8dea69a9-55d0-42d7-d0d9-6c4815fb1985"
      },
      "source": [
        "install.packages(\"stringr\")"
      ],
      "execution_count": 6,
      "outputs": [
        {
          "output_type": "stream",
          "text": [
            "Installing package into ‘/usr/local/lib/R/site-library’\n",
            "(as ‘lib’ is unspecified)\n",
            "\n"
          ],
          "name": "stderr"
        }
      ]
    },
    {
      "cell_type": "code",
      "metadata": {
        "id": "D9JNG-xYPrT3"
      },
      "source": [
        ""
      ],
      "execution_count": null,
      "outputs": []
    },
    {
      "cell_type": "code",
      "metadata": {
        "colab": {
          "base_uri": "https://localhost:8080/"
        },
        "id": "I8_nGRHnNzUP",
        "outputId": "5ad64ad2-6c0c-446a-c6c5-354833c0a5eb"
      },
      "source": [
        "install.packages(\"wordcloud\")"
      ],
      "execution_count": 7,
      "outputs": [
        {
          "output_type": "stream",
          "text": [
            "Installing package into ‘/usr/local/lib/R/site-library’\n",
            "(as ‘lib’ is unspecified)\n",
            "\n"
          ],
          "name": "stderr"
        }
      ]
    },
    {
      "cell_type": "code",
      "metadata": {
        "colab": {
          "base_uri": "https://localhost:8080/"
        },
        "id": "JQBj773DN9RD",
        "outputId": "34d8bf2e-6bd8-4b4b-ba94-39f90c196030"
      },
      "source": [
        "install.packages(\"Rwordseg\",repos = \"http://R-Forge.R-project.org\")"
      ],
      "execution_count": 8,
      "outputs": [
        {
          "output_type": "stream",
          "text": [
            "Installing package into ‘/usr/local/lib/R/site-library’\n",
            "(as ‘lib’ is unspecified)\n",
            "\n",
            "Warning message:\n",
            "“dependency ‘HMM’ is not available”\n",
            "Warning message in install.packages(\"Rwordseg\", repos = \"http://R-Forge.R-project.org\"):\n",
            "“installation of package ‘Rwordseg’ had non-zero exit status”\n"
          ],
          "name": "stderr"
        }
      ]
    },
    {
      "cell_type": "code",
      "metadata": {
        "id": "FysAEKQjOZTw",
        "colab": {
          "base_uri": "https://localhost:8080/"
        },
        "outputId": "0f3a8fad-1aef-4ba2-efaa-1fbc79332ef8"
      },
      "source": [
        "library(dplyr)"
      ],
      "execution_count": 9,
      "outputs": [
        {
          "output_type": "stream",
          "text": [
            "\n",
            "Attaching package: ‘dplyr’\n",
            "\n",
            "\n",
            "The following objects are masked from ‘package:stats’:\n",
            "\n",
            "    filter, lag\n",
            "\n",
            "\n",
            "The following objects are masked from ‘package:base’:\n",
            "\n",
            "    intersect, setdiff, setequal, union\n",
            "\n",
            "\n"
          ],
          "name": "stderr"
        }
      ]
    },
    {
      "cell_type": "code",
      "metadata": {
        "id": "qRj-vlVxOxdy",
        "colab": {
          "base_uri": "https://localhost:8080/"
        },
        "outputId": "06794ec1-c889-4d9d-80ff-de3435483f05"
      },
      "source": [
        "library(jiebaR)"
      ],
      "execution_count": 10,
      "outputs": [
        {
          "output_type": "stream",
          "text": [
            "Loading required package: jiebaRD\n",
            "\n"
          ],
          "name": "stderr"
        }
      ]
    },
    {
      "cell_type": "code",
      "metadata": {
        "id": "BImPNXIrPPzM",
        "colab": {
          "base_uri": "https://localhost:8080/"
        },
        "outputId": "ad91b6bf-797a-40b4-d5d4-ae34e0b37448"
      },
      "source": [
        "library(lubridate)"
      ],
      "execution_count": 11,
      "outputs": [
        {
          "output_type": "stream",
          "text": [
            "Warning message in system(\"timedatectl\", intern = TRUE):\n",
            "“running command 'timedatectl' had status 1”\n",
            "\n",
            "Attaching package: ‘lubridate’\n",
            "\n",
            "\n",
            "The following objects are masked from ‘package:base’:\n",
            "\n",
            "    date, intersect, setdiff, union\n",
            "\n",
            "\n"
          ],
          "name": "stderr"
        }
      ]
    },
    {
      "cell_type": "code",
      "metadata": {
        "id": "crL9RrNoO139"
      },
      "source": [
        "library(stringr)"
      ],
      "execution_count": 94,
      "outputs": []
    },
    {
      "cell_type": "code",
      "metadata": {
        "id": "hyrszTVYPWd9"
      },
      "source": [
        "library(wordcloud)"
      ],
      "execution_count": 95,
      "outputs": []
    },
    {
      "cell_type": "code",
      "metadata": {
        "id": "eBugBA8gPyga"
      },
      "source": [
        "content<-\"人民網東京3月24日電日本頻道綜合日本時尚娛樂網Modelpress報導，乃木坂46的特別節目《最喜歡的乃木坂46!——10年出道回憶猜謎遊戲amp;公開演唱會珍藏影像》於3月22日在hikariTV頻道獨家播出。今年是乃木坂46出道的第10年。該節目通過猜謎和以往的演唱會影像，回顧了她們一路走過的精彩瞬間。搞笑藝人組合Lotti的成員小門建太郎和中岡創一擔任該節目的主持人，成員們一邊觀看乃木坂46七周年及八周年演唱會的影像，一邊回憶了當時的幕後趣事。此前，三期生梅澤美波表示：「這些過去輝煌的影像和成員們的畢業以及新人的加入都一點一滴的刻畫成乃木坂46的歷史。 在這10年裡，有歡笑，有淚水，這是包含著各種情感的10年。 我希望能和成員們以及觀眾朋友們一同度過這段美好的時光！四期生賀喜遙香表示：「雖然我們4期生是最晚才加入到乃木坂46的，但是我對乃木坂46的愛並不輸給其他成員！關於回憶猜謎這一環節，因為我總是注視著各位前輩們和同期生，所以我會努力回憶起與大家相處的記憶！\"\n",
        "\n"
      ],
      "execution_count": 96,
      "outputs": []
    },
    {
      "cell_type": "code",
      "metadata": {
        "id": "pzhU6PsEh5ux",
        "colab": {
          "base_uri": "https://localhost:8080/",
          "height": 146
        },
        "outputId": "82d28f4d-ee50-40dd-fdd4-942b4be640df"
      },
      "source": [
        "content<-\"人民網東京3月24日電 日本頻道綜合日本時尚娛樂網Modelpress報導，乃木坂46的特別節目《最喜歡的乃木坂46!——10年出道回憶猜謎遊戲amp; 公開演唱會珍藏影像》於3月22日在hikariTV 頻道獨家播出。今年是乃木坂46出道的第10年。 該節目通過猜謎和以往的演唱會影像，回顧了她們一路走過的精彩瞬間。搞笑藝人組合Lotti的成員小門建太郎和中岡創一擔任該節目的主持人，成員們一邊觀看\"乃木坂46七周年及八周年演唱會\"的影像，一邊回憶了當時的幕後趣事。此前，三期生梅澤美波表示：「這些過去輝煌的影像和成員們的畢業以及新人的加入都一點一滴的刻畫成乃木坂46的歷史。 在這10年裡，有歡笑，有淚水，這是包含著各種情感的10年。 我希望能和成員們以及觀眾朋友們一同度過這段美好的時光！\"四期生賀喜遙香表示：「雖然我們4期生是最晚才加入到乃木坂46的，但是我對乃木坂46的愛並不輸給其他成員！ 關於回憶猜謎這一環節，因為我總是注視著各位前輩們和同期生，所以我會努力回憶起與大家相處的記憶！\"\""
      ],
      "execution_count": 97,
      "outputs": [
        {
          "output_type": "error",
          "ename": "ERROR",
          "evalue": "ignored",
          "traceback": [
            "Error in parse(text = x, srcfile = src): <text>:1:212: unexpected symbol\n1: 。 該節目通過猜謎和以往的演唱會影像，回顧了她們一路走過的精彩瞬間。搞笑藝人組合Lotti的成員小門建太郎和中岡創一擔任該節目的主持人，\n                                                                                                                                                                                                                       ^\nTraceback:\n"
          ]
        }
      ]
    },
    {
      "cell_type": "code",
      "metadata": {
        "id": "CQdGMOvYRTaX"
      },
      "source": [
        "cutter <- worker(bylines =F)#"
      ],
      "execution_count": 100,
      "outputs": []
    },
    {
      "cell_type": "code",
      "metadata": {
        "colab": {
          "base_uri": "https://localhost:8080/",
          "height": 133
        },
        "id": "yIA3hZQrRtrq",
        "outputId": "6bc7afc9-7cf7-4da1-f4f1-00b86f990466"
      },
      "source": [
        "cutter[content]"
      ],
      "execution_count": 101,
      "outputs": [
        {
          "output_type": "display_data",
          "data": {
            "text/plain": [
              "  [1] \"人民網\"     \"東京\"       \"3\"          \"月\"         \"24\"        \n",
              "  [6] \"日電\"       \"日本\"       \"頻道\"       \"綜合\"       \"日本\"      \n",
              " [11] \"時尚\"       \"娛樂網\"     \"Modelpress\" \"報導\"       \"乃木坂\"    \n",
              " [16] \"46\"         \"的\"         \"特別節目\"   \"最\"         \"喜歡\"      \n",
              " [21] \"的\"         \"乃木坂\"     \"46\"         \"10\"         \"年\"        \n",
              " [26] \"出道\"       \"回憶\"       \"猜謎\"       \"遊戲\"       \"amp\"       \n",
              " [31] \"公開\"       \"演唱會\"     \"珍藏\"       \"影像\"       \"於\"        \n",
              " [36] \"3\"          \"月\"         \"22\"         \"日\"         \"在\"        \n",
              " [41] \"hikariTV\"   \"頻道\"       \"獨家\"       \"播出\"       \"今年\"      \n",
              " [46] \"是\"         \"乃木坂\"     \"46\"         \"出道\"       \"的\"        \n",
              " [51] \"第\"         \"10\"         \"年\"         \"該\"         \"節目\"      \n",
              " [56] \"通過\"       \"猜謎\"       \"和\"         \"以往\"       \"的\"        \n",
              " [61] \"演唱會\"     \"影像\"       \"回顧\"       \"了\"         \"她們\"      \n",
              " [66] \"一路\"       \"走過\"       \"的\"         \"精彩\"       \"瞬間\"      \n",
              " [71] \"搞笑\"       \"藝人\"       \"組合\"       \"Lotti\"      \"的\"        \n",
              " [76] \"成員\"       \"小門\"       \"建\"         \"太郎\"       \"和\"        \n",
              " [81] \"中岡\"       \"創一\"       \"擔任\"       \"該\"         \"節目\"      \n",
              " [86] \"的\"         \"主持人\"     \"成員\"       \"們\"         \"一邊\"      \n",
              " [91] \"觀看\"       \"乃木坂\"     \"46\"         \"七周年\"     \"及\"        \n",
              " [96] \"八周年\"     \"演唱會\"     \"的\"         \"影像\"       \"一邊\"      \n",
              "[101] \"回憶\"       \"了\"         \"當時\"       \"的\"         \"幕後\"      \n",
              "[106] \"趣事\"       \"此前\"       \"三期\"       \"生梅澤美波\" \"表示\"      \n",
              "[111] \"這些\"       \"過去\"       \"輝煌\"       \"的\"         \"影像\"      \n",
              "[116] \"和\"         \"成員\"       \"們\"         \"的\"         \"畢業\"      \n",
              "[121] \"以及\"       \"新人\"       \"的\"         \"加入\"       \"都\"        \n",
              "[126] \"一點一滴\"   \"的\"         \"刻畫\"       \"成乃木坂\"   \"46\"        \n",
              "[131] \"的\"         \"歷史\"       \"在\"         \"這\"         \"10\"        \n",
              "[136] \"年裡\"       \"有\"         \"歡笑\"       \"有\"         \"淚水\"      \n",
              "[141] \"這是\"       \"包含\"       \"著\"         \"各種\"       \"情感\"      \n",
              "[146] \"的\"         \"10\"         \"年\"         \"我\"         \"希望\"      \n",
              "[151] \"能\"         \"和\"         \"成員\"       \"們\"         \"以及\"      \n",
              "[156] \"觀眾\"       \"朋友\"       \"們\"         \"一同\"       \"度過\"      \n",
              "[161] \"這段\"       \"美好\"       \"的\"         \"時光\"       \"四期\"      \n",
              "[166] \"生\"         \"賀喜\"       \"遙香\"       \"表示\"       \"雖然\"      \n",
              "[171] \"我們\"       \"4\"          \"期生\"       \"是\"         \"最晚\"      \n",
              "[176] \"才\"         \"加入\"       \"到\"         \"乃木坂\"     \"46\"        \n",
              "[181] \"的\"         \"但是\"       \"我\"         \"對\"         \"乃木坂\"    \n",
              "[186] \"46\"         \"的\"         \"愛並\"       \"不輸給\"     \"其他\"      \n",
              "[191] \"成員\"       \"關於\"       \"回憶\"       \"猜謎\"       \"這一\"      \n",
              "[196] \"環節\"       \"因為\"       \"我\"         \"總是\"       \"注視\"      \n",
              "[201] \"著\"         \"各位\"       \"前輩\"       \"們\"         \"和\"        \n",
              "[206] \"同期\"       \"生\"         \"所以\"       \"我會\"       \"努力\"      \n",
              "[211] \"回憶起\"     \"與\"         \"大家\"       \"相處\"       \"的\"        \n",
              "[216] \"記憶\"      "
            ],
            "text/latex": "\\begin{enumerate*}\n\\item '人民網'\n\\item '東京'\n\\item '3'\n\\item '月'\n\\item '24'\n\\item '日電'\n\\item '日本'\n\\item '頻道'\n\\item '綜合'\n\\item '日本'\n\\item '時尚'\n\\item '娛樂網'\n\\item 'Modelpress'\n\\item '報導'\n\\item '乃木坂'\n\\item '46'\n\\item '的'\n\\item '特別節目'\n\\item '最'\n\\item '喜歡'\n\\item '的'\n\\item '乃木坂'\n\\item '46'\n\\item '10'\n\\item '年'\n\\item '出道'\n\\item '回憶'\n\\item '猜謎'\n\\item '遊戲'\n\\item 'amp'\n\\item '公開'\n\\item '演唱會'\n\\item '珍藏'\n\\item '影像'\n\\item '於'\n\\item '3'\n\\item '月'\n\\item '22'\n\\item '日'\n\\item '在'\n\\item 'hikariTV'\n\\item '頻道'\n\\item '獨家'\n\\item '播出'\n\\item '今年'\n\\item '是'\n\\item '乃木坂'\n\\item '46'\n\\item '出道'\n\\item '的'\n\\item '第'\n\\item '10'\n\\item '年'\n\\item '該'\n\\item '節目'\n\\item '通過'\n\\item '猜謎'\n\\item '和'\n\\item '以往'\n\\item '的'\n\\item '演唱會'\n\\item '影像'\n\\item '回顧'\n\\item '了'\n\\item '她們'\n\\item '一路'\n\\item '走過'\n\\item '的'\n\\item '精彩'\n\\item '瞬間'\n\\item '搞笑'\n\\item '藝人'\n\\item '組合'\n\\item 'Lotti'\n\\item '的'\n\\item '成員'\n\\item '小門'\n\\item '建'\n\\item '太郎'\n\\item '和'\n\\item '中岡'\n\\item '創一'\n\\item '擔任'\n\\item '該'\n\\item '節目'\n\\item '的'\n\\item '主持人'\n\\item '成員'\n\\item '們'\n\\item '一邊'\n\\item '觀看'\n\\item '乃木坂'\n\\item '46'\n\\item '七周年'\n\\item '及'\n\\item '八周年'\n\\item '演唱會'\n\\item '的'\n\\item '影像'\n\\item '一邊'\n\\item '回憶'\n\\item '了'\n\\item '當時'\n\\item '的'\n\\item '幕後'\n\\item '趣事'\n\\item '此前'\n\\item '三期'\n\\item '生梅澤美波'\n\\item '表示'\n\\item '這些'\n\\item '過去'\n\\item '輝煌'\n\\item '的'\n\\item '影像'\n\\item '和'\n\\item '成員'\n\\item '們'\n\\item '的'\n\\item '畢業'\n\\item '以及'\n\\item '新人'\n\\item '的'\n\\item '加入'\n\\item '都'\n\\item '一點一滴'\n\\item '的'\n\\item '刻畫'\n\\item '成乃木坂'\n\\item '46'\n\\item '的'\n\\item '歷史'\n\\item '在'\n\\item '這'\n\\item '10'\n\\item '年裡'\n\\item '有'\n\\item '歡笑'\n\\item '有'\n\\item '淚水'\n\\item '這是'\n\\item '包含'\n\\item '著'\n\\item '各種'\n\\item '情感'\n\\item '的'\n\\item '10'\n\\item '年'\n\\item '我'\n\\item '希望'\n\\item '能'\n\\item '和'\n\\item '成員'\n\\item '們'\n\\item '以及'\n\\item '觀眾'\n\\item '朋友'\n\\item '們'\n\\item '一同'\n\\item '度過'\n\\item '這段'\n\\item '美好'\n\\item '的'\n\\item '時光'\n\\item '四期'\n\\item '生'\n\\item '賀喜'\n\\item '遙香'\n\\item '表示'\n\\item '雖然'\n\\item '我們'\n\\item '4'\n\\item '期生'\n\\item '是'\n\\item '最晚'\n\\item '才'\n\\item '加入'\n\\item '到'\n\\item '乃木坂'\n\\item '46'\n\\item '的'\n\\item '但是'\n\\item '我'\n\\item '對'\n\\item '乃木坂'\n\\item '46'\n\\item '的'\n\\item '愛並'\n\\item '不輸給'\n\\item '其他'\n\\item '成員'\n\\item '關於'\n\\item '回憶'\n\\item '猜謎'\n\\item '這一'\n\\item '環節'\n\\item '因為'\n\\item '我'\n\\item '總是'\n\\item '注視'\n\\item '著'\n\\item '各位'\n\\item '前輩'\n\\item '們'\n\\item '和'\n\\item '同期'\n\\item '生'\n\\item '所以'\n\\item '我會'\n\\item '努力'\n\\item '回憶起'\n\\item '與'\n\\item '大家'\n\\item '相處'\n\\item '的'\n\\item '記憶'\n\\end{enumerate*}\n",
            "text/markdown": "1. '人民網'\n2. '東京'\n3. '3'\n4. '月'\n5. '24'\n6. '日電'\n7. '日本'\n8. '頻道'\n9. '綜合'\n10. '日本'\n11. '時尚'\n12. '娛樂網'\n13. 'Modelpress'\n14. '報導'\n15. '乃木坂'\n16. '46'\n17. '的'\n18. '特別節目'\n19. '最'\n20. '喜歡'\n21. '的'\n22. '乃木坂'\n23. '46'\n24. '10'\n25. '年'\n26. '出道'\n27. '回憶'\n28. '猜謎'\n29. '遊戲'\n30. 'amp'\n31. '公開'\n32. '演唱會'\n33. '珍藏'\n34. '影像'\n35. '於'\n36. '3'\n37. '月'\n38. '22'\n39. '日'\n40. '在'\n41. 'hikariTV'\n42. '頻道'\n43. '獨家'\n44. '播出'\n45. '今年'\n46. '是'\n47. '乃木坂'\n48. '46'\n49. '出道'\n50. '的'\n51. '第'\n52. '10'\n53. '年'\n54. '該'\n55. '節目'\n56. '通過'\n57. '猜謎'\n58. '和'\n59. '以往'\n60. '的'\n61. '演唱會'\n62. '影像'\n63. '回顧'\n64. '了'\n65. '她們'\n66. '一路'\n67. '走過'\n68. '的'\n69. '精彩'\n70. '瞬間'\n71. '搞笑'\n72. '藝人'\n73. '組合'\n74. 'Lotti'\n75. '的'\n76. '成員'\n77. '小門'\n78. '建'\n79. '太郎'\n80. '和'\n81. '中岡'\n82. '創一'\n83. '擔任'\n84. '該'\n85. '節目'\n86. '的'\n87. '主持人'\n88. '成員'\n89. '們'\n90. '一邊'\n91. '觀看'\n92. '乃木坂'\n93. '46'\n94. '七周年'\n95. '及'\n96. '八周年'\n97. '演唱會'\n98. '的'\n99. '影像'\n100. '一邊'\n101. '回憶'\n102. '了'\n103. '當時'\n104. '的'\n105. '幕後'\n106. '趣事'\n107. '此前'\n108. '三期'\n109. '生梅澤美波'\n110. '表示'\n111. '這些'\n112. '過去'\n113. '輝煌'\n114. '的'\n115. '影像'\n116. '和'\n117. '成員'\n118. '們'\n119. '的'\n120. '畢業'\n121. '以及'\n122. '新人'\n123. '的'\n124. '加入'\n125. '都'\n126. '一點一滴'\n127. '的'\n128. '刻畫'\n129. '成乃木坂'\n130. '46'\n131. '的'\n132. '歷史'\n133. '在'\n134. '這'\n135. '10'\n136. '年裡'\n137. '有'\n138. '歡笑'\n139. '有'\n140. '淚水'\n141. '這是'\n142. '包含'\n143. '著'\n144. '各種'\n145. '情感'\n146. '的'\n147. '10'\n148. '年'\n149. '我'\n150. '希望'\n151. '能'\n152. '和'\n153. '成員'\n154. '們'\n155. '以及'\n156. '觀眾'\n157. '朋友'\n158. '們'\n159. '一同'\n160. '度過'\n161. '這段'\n162. '美好'\n163. '的'\n164. '時光'\n165. '四期'\n166. '生'\n167. '賀喜'\n168. '遙香'\n169. '表示'\n170. '雖然'\n171. '我們'\n172. '4'\n173. '期生'\n174. '是'\n175. '最晚'\n176. '才'\n177. '加入'\n178. '到'\n179. '乃木坂'\n180. '46'\n181. '的'\n182. '但是'\n183. '我'\n184. '對'\n185. '乃木坂'\n186. '46'\n187. '的'\n188. '愛並'\n189. '不輸給'\n190. '其他'\n191. '成員'\n192. '關於'\n193. '回憶'\n194. '猜謎'\n195. '這一'\n196. '環節'\n197. '因為'\n198. '我'\n199. '總是'\n200. '注視'\n201. '著'\n202. '各位'\n203. '前輩'\n204. '們'\n205. '和'\n206. '同期'\n207. '生'\n208. '所以'\n209. '我會'\n210. '努力'\n211. '回憶起'\n212. '與'\n213. '大家'\n214. '相處'\n215. '的'\n216. '記憶'\n\n\n",
            "text/html": [
              "<style>\n",
              ".list-inline {list-style: none; margin:0; padding: 0}\n",
              ".list-inline>li {display: inline-block}\n",
              ".list-inline>li:not(:last-child)::after {content: \"\\00b7\"; padding: 0 .5ex}\n",
              "</style>\n",
              "<ol class=list-inline><li>'人民網'</li><li>'東京'</li><li>'3'</li><li>'月'</li><li>'24'</li><li>'日電'</li><li>'日本'</li><li>'頻道'</li><li>'綜合'</li><li>'日本'</li><li>'時尚'</li><li>'娛樂網'</li><li>'Modelpress'</li><li>'報導'</li><li>'乃木坂'</li><li>'46'</li><li>'的'</li><li>'特別節目'</li><li>'最'</li><li>'喜歡'</li><li>'的'</li><li>'乃木坂'</li><li>'46'</li><li>'10'</li><li>'年'</li><li>'出道'</li><li>'回憶'</li><li>'猜謎'</li><li>'遊戲'</li><li>'amp'</li><li>'公開'</li><li>'演唱會'</li><li>'珍藏'</li><li>'影像'</li><li>'於'</li><li>'3'</li><li>'月'</li><li>'22'</li><li>'日'</li><li>'在'</li><li>'hikariTV'</li><li>'頻道'</li><li>'獨家'</li><li>'播出'</li><li>'今年'</li><li>'是'</li><li>'乃木坂'</li><li>'46'</li><li>'出道'</li><li>'的'</li><li>'第'</li><li>'10'</li><li>'年'</li><li>'該'</li><li>'節目'</li><li>'通過'</li><li>'猜謎'</li><li>'和'</li><li>'以往'</li><li>'的'</li><li>'演唱會'</li><li>'影像'</li><li>'回顧'</li><li>'了'</li><li>'她們'</li><li>'一路'</li><li>'走過'</li><li>'的'</li><li>'精彩'</li><li>'瞬間'</li><li>'搞笑'</li><li>'藝人'</li><li>'組合'</li><li>'Lotti'</li><li>'的'</li><li>'成員'</li><li>'小門'</li><li>'建'</li><li>'太郎'</li><li>'和'</li><li>'中岡'</li><li>'創一'</li><li>'擔任'</li><li>'該'</li><li>'節目'</li><li>'的'</li><li>'主持人'</li><li>'成員'</li><li>'們'</li><li>'一邊'</li><li>'觀看'</li><li>'乃木坂'</li><li>'46'</li><li>'七周年'</li><li>'及'</li><li>'八周年'</li><li>'演唱會'</li><li>'的'</li><li>'影像'</li><li>'一邊'</li><li>'回憶'</li><li>'了'</li><li>'當時'</li><li>'的'</li><li>'幕後'</li><li>'趣事'</li><li>'此前'</li><li>'三期'</li><li>'生梅澤美波'</li><li>'表示'</li><li>'這些'</li><li>'過去'</li><li>'輝煌'</li><li>'的'</li><li>'影像'</li><li>'和'</li><li>'成員'</li><li>'們'</li><li>'的'</li><li>'畢業'</li><li>'以及'</li><li>'新人'</li><li>'的'</li><li>'加入'</li><li>'都'</li><li>'一點一滴'</li><li>'的'</li><li>'刻畫'</li><li>'成乃木坂'</li><li>'46'</li><li>'的'</li><li>'歷史'</li><li>'在'</li><li>'這'</li><li>'10'</li><li>'年裡'</li><li>'有'</li><li>'歡笑'</li><li>'有'</li><li>'淚水'</li><li>'這是'</li><li>'包含'</li><li>'著'</li><li>'各種'</li><li>'情感'</li><li>'的'</li><li>'10'</li><li>'年'</li><li>'我'</li><li>'希望'</li><li>'能'</li><li>'和'</li><li>'成員'</li><li>'們'</li><li>'以及'</li><li>'觀眾'</li><li>'朋友'</li><li>'們'</li><li>'一同'</li><li>'度過'</li><li>'這段'</li><li>'美好'</li><li>'的'</li><li>'時光'</li><li>'四期'</li><li>'生'</li><li>'賀喜'</li><li>'遙香'</li><li>'表示'</li><li>'雖然'</li><li>'我們'</li><li>'4'</li><li>'期生'</li><li>'是'</li><li>'最晚'</li><li>'才'</li><li>'加入'</li><li>'到'</li><li>'乃木坂'</li><li>'46'</li><li>'的'</li><li>'但是'</li><li>'我'</li><li>'對'</li><li>'乃木坂'</li><li>'46'</li><li>'的'</li><li>'愛並'</li><li>'不輸給'</li><li>'其他'</li><li>'成員'</li><li>'關於'</li><li>'回憶'</li><li>'猜謎'</li><li>'這一'</li><li>'環節'</li><li>'因為'</li><li>'我'</li><li>'總是'</li><li>'注視'</li><li>'著'</li><li>'各位'</li><li>'前輩'</li><li>'們'</li><li>'和'</li><li>'同期'</li><li>'生'</li><li>'所以'</li><li>'我會'</li><li>'努力'</li><li>'回憶起'</li><li>'與'</li><li>'大家'</li><li>'相處'</li><li>'的'</li><li>'記憶'</li></ol>\n"
            ]
          },
          "metadata": {
            "tags": []
          }
        }
      ]
    },
    {
      "cell_type": "code",
      "metadata": {
        "id": "bbv6cMiXR1v7"
      },
      "source": [
        "new_words <- c(\"我們\",\"成員們\",\"前輩們\",\"同期生\",\"乃木坂\",\"出道\",\"包含著\")\n",
        "for (i in 1:length(new_words)){new_user_word(cutter, new_words[i])}"
      ],
      "execution_count": 144,
      "outputs": []
    },
    {
      "cell_type": "code",
      "metadata": {
        "colab": {
          "base_uri": "https://localhost:8080/",
          "height": 100
        },
        "id": "jphn9r1fP3Ii",
        "outputId": "180ea8d2-4061-475d-c3fa-76d2e57c0feb"
      },
      "source": [
        "content <- str_remove_all(content, \"[0-9a-zA-Z]+?\")\n",
        "cutter[content]"
      ],
      "execution_count": 125,
      "outputs": [
        {
          "output_type": "display_data",
          "data": {
            "text/plain": [
              "  [1] \"人民網\"     \"東京\"       \"月\"         \"日電\"       \"日本\"      \n",
              "  [6] \"頻道\"       \"綜合\"       \"日本\"       \"時尚\"       \"娛樂網\"    \n",
              " [11] \"報導\"       \"乃木坂\"     \"特別節目\"   \"最\"         \"喜歡\"      \n",
              " [16] \"乃木坂\"     \"年\"         \"出道\"       \"回憶\"       \"猜謎\"      \n",
              " [21] \"遊戲\"       \"公開\"       \"演唱會\"     \"珍藏\"       \"影像\"      \n",
              " [26] \"於\"         \"月\"         \"日\"         \"頻道\"       \"獨家\"      \n",
              " [31] \"播出\"       \"今年\"       \"乃木坂\"     \"出道\"       \"第年\"      \n",
              " [36] \"該\"         \"節目\"       \"通過\"       \"猜謎\"       \"以往\"      \n",
              " [41] \"演唱會\"     \"影像\"       \"回顧\"       \"她們\"       \"一路\"      \n",
              " [46] \"走過\"       \"精彩\"       \"瞬間\"       \"搞笑\"       \"藝人\"      \n",
              " [51] \"組合\"       \"成員\"       \"小門\"       \"建\"         \"太郎\"      \n",
              " [56] \"中岡\"       \"創一\"       \"擔任\"       \"該\"         \"節目\"      \n",
              " [61] \"主持人\"     \"成員們\"     \"一邊\"       \"觀看\"       \"乃木坂\"    \n",
              " [66] \"七周年\"     \"及\"         \"八周年\"     \"演唱會\"     \"影像\"      \n",
              " [71] \"一邊\"       \"回憶\"       \"當時\"       \"幕後\"       \"趣事\"      \n",
              " [76] \"此前\"       \"三期\"       \"生梅澤美波\" \"表示\"       \"這些\"      \n",
              " [81] \"過去\"       \"輝煌\"       \"影像\"       \"成員們\"     \"畢業\"      \n",
              " [86] \"以及\"       \"新人\"       \"加入\"       \"都\"         \"一點一滴\"  \n",
              " [91] \"刻畫\"       \"成\"         \"乃木坂\"     \"歷史\"       \"這年裡\"    \n",
              " [96] \"有\"         \"歡笑\"       \"有\"         \"淚水\"       \"這是\"      \n",
              "[101] \"包含\"       \"著\"         \"各種\"       \"情感\"       \"年\"        \n",
              "[106] \"我\"         \"希望\"       \"能\"         \"成員們\"     \"以及\"      \n",
              "[111] \"觀眾\"       \"朋友\"       \"們\"         \"一同\"       \"度過\"      \n",
              "[116] \"這段\"       \"美好\"       \"時光\"       \"四期\"       \"生\"        \n",
              "[121] \"賀喜\"       \"遙香\"       \"表示\"       \"雖然\"       \"我們\"      \n",
              "[126] \"期生\"       \"最晚\"       \"加入\"       \"到\"         \"乃木坂\"    \n",
              "[131] \"但是\"       \"我\"         \"對\"         \"乃木坂\"     \"愛並\"      \n",
              "[136] \"不輸給\"     \"其他\"       \"成員\"       \"關於\"       \"回憶\"      \n",
              "[141] \"猜謎\"       \"這一\"       \"環節\"       \"因為\"       \"我\"        \n",
              "[146] \"總是\"       \"注視\"       \"著\"         \"各位\"       \"前輩們\"    \n",
              "[151] \"同期生\"     \"我會\"       \"努力\"       \"回憶起\"     \"大家\"      \n",
              "[156] \"相處\"       \"記憶\"      "
            ],
            "text/latex": "\\begin{enumerate*}\n\\item '人民網'\n\\item '東京'\n\\item '月'\n\\item '日電'\n\\item '日本'\n\\item '頻道'\n\\item '綜合'\n\\item '日本'\n\\item '時尚'\n\\item '娛樂網'\n\\item '報導'\n\\item '乃木坂'\n\\item '特別節目'\n\\item '最'\n\\item '喜歡'\n\\item '乃木坂'\n\\item '年'\n\\item '出道'\n\\item '回憶'\n\\item '猜謎'\n\\item '遊戲'\n\\item '公開'\n\\item '演唱會'\n\\item '珍藏'\n\\item '影像'\n\\item '於'\n\\item '月'\n\\item '日'\n\\item '頻道'\n\\item '獨家'\n\\item '播出'\n\\item '今年'\n\\item '乃木坂'\n\\item '出道'\n\\item '第年'\n\\item '該'\n\\item '節目'\n\\item '通過'\n\\item '猜謎'\n\\item '以往'\n\\item '演唱會'\n\\item '影像'\n\\item '回顧'\n\\item '她們'\n\\item '一路'\n\\item '走過'\n\\item '精彩'\n\\item '瞬間'\n\\item '搞笑'\n\\item '藝人'\n\\item '組合'\n\\item '成員'\n\\item '小門'\n\\item '建'\n\\item '太郎'\n\\item '中岡'\n\\item '創一'\n\\item '擔任'\n\\item '該'\n\\item '節目'\n\\item '主持人'\n\\item '成員們'\n\\item '一邊'\n\\item '觀看'\n\\item '乃木坂'\n\\item '七周年'\n\\item '及'\n\\item '八周年'\n\\item '演唱會'\n\\item '影像'\n\\item '一邊'\n\\item '回憶'\n\\item '當時'\n\\item '幕後'\n\\item '趣事'\n\\item '此前'\n\\item '三期'\n\\item '生梅澤美波'\n\\item '表示'\n\\item '這些'\n\\item '過去'\n\\item '輝煌'\n\\item '影像'\n\\item '成員們'\n\\item '畢業'\n\\item '以及'\n\\item '新人'\n\\item '加入'\n\\item '都'\n\\item '一點一滴'\n\\item '刻畫'\n\\item '成'\n\\item '乃木坂'\n\\item '歷史'\n\\item '這年裡'\n\\item '有'\n\\item '歡笑'\n\\item '有'\n\\item '淚水'\n\\item '這是'\n\\item '包含'\n\\item '著'\n\\item '各種'\n\\item '情感'\n\\item '年'\n\\item '我'\n\\item '希望'\n\\item '能'\n\\item '成員們'\n\\item '以及'\n\\item '觀眾'\n\\item '朋友'\n\\item '們'\n\\item '一同'\n\\item '度過'\n\\item '這段'\n\\item '美好'\n\\item '時光'\n\\item '四期'\n\\item '生'\n\\item '賀喜'\n\\item '遙香'\n\\item '表示'\n\\item '雖然'\n\\item '我們'\n\\item '期生'\n\\item '最晚'\n\\item '加入'\n\\item '到'\n\\item '乃木坂'\n\\item '但是'\n\\item '我'\n\\item '對'\n\\item '乃木坂'\n\\item '愛並'\n\\item '不輸給'\n\\item '其他'\n\\item '成員'\n\\item '關於'\n\\item '回憶'\n\\item '猜謎'\n\\item '這一'\n\\item '環節'\n\\item '因為'\n\\item '我'\n\\item '總是'\n\\item '注視'\n\\item '著'\n\\item '各位'\n\\item '前輩們'\n\\item '同期生'\n\\item '我會'\n\\item '努力'\n\\item '回憶起'\n\\item '大家'\n\\item '相處'\n\\item '記憶'\n\\end{enumerate*}\n",
            "text/markdown": "1. '人民網'\n2. '東京'\n3. '月'\n4. '日電'\n5. '日本'\n6. '頻道'\n7. '綜合'\n8. '日本'\n9. '時尚'\n10. '娛樂網'\n11. '報導'\n12. '乃木坂'\n13. '特別節目'\n14. '最'\n15. '喜歡'\n16. '乃木坂'\n17. '年'\n18. '出道'\n19. '回憶'\n20. '猜謎'\n21. '遊戲'\n22. '公開'\n23. '演唱會'\n24. '珍藏'\n25. '影像'\n26. '於'\n27. '月'\n28. '日'\n29. '頻道'\n30. '獨家'\n31. '播出'\n32. '今年'\n33. '乃木坂'\n34. '出道'\n35. '第年'\n36. '該'\n37. '節目'\n38. '通過'\n39. '猜謎'\n40. '以往'\n41. '演唱會'\n42. '影像'\n43. '回顧'\n44. '她們'\n45. '一路'\n46. '走過'\n47. '精彩'\n48. '瞬間'\n49. '搞笑'\n50. '藝人'\n51. '組合'\n52. '成員'\n53. '小門'\n54. '建'\n55. '太郎'\n56. '中岡'\n57. '創一'\n58. '擔任'\n59. '該'\n60. '節目'\n61. '主持人'\n62. '成員們'\n63. '一邊'\n64. '觀看'\n65. '乃木坂'\n66. '七周年'\n67. '及'\n68. '八周年'\n69. '演唱會'\n70. '影像'\n71. '一邊'\n72. '回憶'\n73. '當時'\n74. '幕後'\n75. '趣事'\n76. '此前'\n77. '三期'\n78. '生梅澤美波'\n79. '表示'\n80. '這些'\n81. '過去'\n82. '輝煌'\n83. '影像'\n84. '成員們'\n85. '畢業'\n86. '以及'\n87. '新人'\n88. '加入'\n89. '都'\n90. '一點一滴'\n91. '刻畫'\n92. '成'\n93. '乃木坂'\n94. '歷史'\n95. '這年裡'\n96. '有'\n97. '歡笑'\n98. '有'\n99. '淚水'\n100. '這是'\n101. '包含'\n102. '著'\n103. '各種'\n104. '情感'\n105. '年'\n106. '我'\n107. '希望'\n108. '能'\n109. '成員們'\n110. '以及'\n111. '觀眾'\n112. '朋友'\n113. '們'\n114. '一同'\n115. '度過'\n116. '這段'\n117. '美好'\n118. '時光'\n119. '四期'\n120. '生'\n121. '賀喜'\n122. '遙香'\n123. '表示'\n124. '雖然'\n125. '我們'\n126. '期生'\n127. '最晚'\n128. '加入'\n129. '到'\n130. '乃木坂'\n131. '但是'\n132. '我'\n133. '對'\n134. '乃木坂'\n135. '愛並'\n136. '不輸給'\n137. '其他'\n138. '成員'\n139. '關於'\n140. '回憶'\n141. '猜謎'\n142. '這一'\n143. '環節'\n144. '因為'\n145. '我'\n146. '總是'\n147. '注視'\n148. '著'\n149. '各位'\n150. '前輩們'\n151. '同期生'\n152. '我會'\n153. '努力'\n154. '回憶起'\n155. '大家'\n156. '相處'\n157. '記憶'\n\n\n",
            "text/html": [
              "<style>\n",
              ".list-inline {list-style: none; margin:0; padding: 0}\n",
              ".list-inline>li {display: inline-block}\n",
              ".list-inline>li:not(:last-child)::after {content: \"\\00b7\"; padding: 0 .5ex}\n",
              "</style>\n",
              "<ol class=list-inline><li>'人民網'</li><li>'東京'</li><li>'月'</li><li>'日電'</li><li>'日本'</li><li>'頻道'</li><li>'綜合'</li><li>'日本'</li><li>'時尚'</li><li>'娛樂網'</li><li>'報導'</li><li>'乃木坂'</li><li>'特別節目'</li><li>'最'</li><li>'喜歡'</li><li>'乃木坂'</li><li>'年'</li><li>'出道'</li><li>'回憶'</li><li>'猜謎'</li><li>'遊戲'</li><li>'公開'</li><li>'演唱會'</li><li>'珍藏'</li><li>'影像'</li><li>'於'</li><li>'月'</li><li>'日'</li><li>'頻道'</li><li>'獨家'</li><li>'播出'</li><li>'今年'</li><li>'乃木坂'</li><li>'出道'</li><li>'第年'</li><li>'該'</li><li>'節目'</li><li>'通過'</li><li>'猜謎'</li><li>'以往'</li><li>'演唱會'</li><li>'影像'</li><li>'回顧'</li><li>'她們'</li><li>'一路'</li><li>'走過'</li><li>'精彩'</li><li>'瞬間'</li><li>'搞笑'</li><li>'藝人'</li><li>'組合'</li><li>'成員'</li><li>'小門'</li><li>'建'</li><li>'太郎'</li><li>'中岡'</li><li>'創一'</li><li>'擔任'</li><li>'該'</li><li>'節目'</li><li>'主持人'</li><li>'成員們'</li><li>'一邊'</li><li>'觀看'</li><li>'乃木坂'</li><li>'七周年'</li><li>'及'</li><li>'八周年'</li><li>'演唱會'</li><li>'影像'</li><li>'一邊'</li><li>'回憶'</li><li>'當時'</li><li>'幕後'</li><li>'趣事'</li><li>'此前'</li><li>'三期'</li><li>'生梅澤美波'</li><li>'表示'</li><li>'這些'</li><li>'過去'</li><li>'輝煌'</li><li>'影像'</li><li>'成員們'</li><li>'畢業'</li><li>'以及'</li><li>'新人'</li><li>'加入'</li><li>'都'</li><li>'一點一滴'</li><li>'刻畫'</li><li>'成'</li><li>'乃木坂'</li><li>'歷史'</li><li>'這年裡'</li><li>'有'</li><li>'歡笑'</li><li>'有'</li><li>'淚水'</li><li>'這是'</li><li>'包含'</li><li>'著'</li><li>'各種'</li><li>'情感'</li><li>'年'</li><li>'我'</li><li>'希望'</li><li>'能'</li><li>'成員們'</li><li>'以及'</li><li>'觀眾'</li><li>'朋友'</li><li>'們'</li><li>'一同'</li><li>'度過'</li><li>'這段'</li><li>'美好'</li><li>'時光'</li><li>'四期'</li><li>'生'</li><li>'賀喜'</li><li>'遙香'</li><li>'表示'</li><li>'雖然'</li><li>'我們'</li><li>'期生'</li><li>'最晚'</li><li>'加入'</li><li>'到'</li><li>'乃木坂'</li><li>'但是'</li><li>'我'</li><li>'對'</li><li>'乃木坂'</li><li>'愛並'</li><li>'不輸給'</li><li>'其他'</li><li>'成員'</li><li>'關於'</li><li>'回憶'</li><li>'猜謎'</li><li>'這一'</li><li>'環節'</li><li>'因為'</li><li>'我'</li><li>'總是'</li><li>'注視'</li><li>'著'</li><li>'各位'</li><li>'前輩們'</li><li>'同期生'</li><li>'我會'</li><li>'努力'</li><li>'回憶起'</li><li>'大家'</li><li>'相處'</li><li>'記憶'</li></ol>\n"
            ]
          },
          "metadata": {
            "tags": []
          }
        }
      ]
    },
    {
      "cell_type": "code",
      "metadata": {
        "id": "xb2IjP_wh19T"
      },
      "source": [
        ""
      ],
      "execution_count": null,
      "outputs": []
    },
    {
      "cell_type": "code",
      "metadata": {
        "id": "04SU-nvARBY2"
      },
      "source": [
        "new_words <- c(\"我們\",\"成員們\",\"前輩們\",\"同期生\",\"乃木坂\",\"出道\",\"包含著\")\n",
        "writeLines(new_words,\"new_words.txt\")"
      ],
      "execution_count": 145,
      "outputs": []
    },
    {
      "cell_type": "code",
      "metadata": {
        "id": "iRZd7iKoWFD6"
      },
      "source": [
        "stop_words <- c(\"在\",\"之\",\"更\",\"個\",\"未\",\"而\",\"也\",\"與\",\"的\",\"和\",\"才\",\"是\",\"所以\",\"了\",\"有\",\"一邊\",\"以及\",\"該\",\"年\",\"月\",\"日\")\n",
        "writeLines(stop_words,\"stop_words.txt\")"
      ],
      "execution_count": 175,
      "outputs": []
    },
    {
      "cell_type": "code",
      "metadata": {
        "colab": {
          "base_uri": "https://localhost:8080/",
          "height": 100
        },
        "id": "6We-cW0JWvi_",
        "outputId": "587cf469-f7a4-4ef0-a054-484877e6bf03"
      },
      "source": [
        "cutter <- worker(user = \"new_words.txt\",stop_word=\"stop_words.txt\",bylines=FALSE)\n",
        "seg_words<-cutter[content]\n",
        "seg_words"
      ],
      "execution_count": 176,
      "outputs": [
        {
          "output_type": "display_data",
          "data": {
            "text/plain": [
              "  [1] \"人民網\"     \"東京\"       \"日電\"       \"日本\"       \"頻道\"      \n",
              "  [6] \"綜合\"       \"日本\"       \"時尚\"       \"娛樂網\"     \"報導\"      \n",
              " [11] \"乃木坂\"     \"特別節目\"   \"最\"         \"喜歡\"       \"乃木坂\"    \n",
              " [16] \"出道\"       \"回憶\"       \"猜謎\"       \"遊戲\"       \"公開\"      \n",
              " [21] \"演唱會\"     \"珍藏\"       \"影像\"       \"於\"         \"頻道\"      \n",
              " [26] \"獨家\"       \"播出\"       \"今年\"       \"乃木坂\"     \"出道\"      \n",
              " [31] \"第年\"       \"節目\"       \"通過\"       \"猜謎\"       \"以往\"      \n",
              " [36] \"演唱會\"     \"影像\"       \"回顧\"       \"她們\"       \"一路\"      \n",
              " [41] \"走過\"       \"精彩\"       \"瞬間\"       \"搞笑\"       \"藝人\"      \n",
              " [46] \"組合\"       \"成員\"       \"小門\"       \"建\"         \"太郎\"      \n",
              " [51] \"中岡\"       \"創一\"       \"擔任\"       \"節目\"       \"主持人\"    \n",
              " [56] \"成員們\"     \"觀看\"       \"乃木坂\"     \"七周年\"     \"及\"        \n",
              " [61] \"八周年\"     \"演唱會\"     \"影像\"       \"回憶\"       \"當時\"      \n",
              " [66] \"幕後\"       \"趣事\"       \"此前\"       \"三期\"       \"生梅澤美波\"\n",
              " [71] \"表示\"       \"這些\"       \"過去\"       \"輝煌\"       \"影像\"      \n",
              " [76] \"成員們\"     \"畢業\"       \"新人\"       \"加入\"       \"都\"        \n",
              " [81] \"一點一滴\"   \"刻畫\"       \"成\"         \"乃木坂\"     \"歷史\"      \n",
              " [86] \"這年裡\"     \"歡笑\"       \"淚水\"       \"這是\"       \"包含著\"    \n",
              " [91] \"各種\"       \"情感\"       \"我\"         \"希望\"       \"能\"        \n",
              " [96] \"成員們\"     \"觀眾\"       \"朋友\"       \"們\"         \"一同\"      \n",
              "[101] \"度過\"       \"這段\"       \"美好\"       \"時光\"       \"四期\"      \n",
              "[106] \"生\"         \"賀喜\"       \"遙香\"       \"表示\"       \"雖然\"      \n",
              "[111] \"我們\"       \"期生\"       \"最晚\"       \"加入\"       \"到\"        \n",
              "[116] \"乃木坂\"     \"但是\"       \"我\"         \"對\"         \"乃木坂\"    \n",
              "[121] \"愛並\"       \"不輸給\"     \"其他\"       \"成員\"       \"關於\"      \n",
              "[126] \"回憶\"       \"猜謎\"       \"這一\"       \"環節\"       \"因為\"      \n",
              "[131] \"我\"         \"總是\"       \"注視\"       \"著\"         \"各位\"      \n",
              "[136] \"前輩們\"     \"同期生\"     \"我會\"       \"努力\"       \"回憶起\"    \n",
              "[141] \"大家\"       \"相處\"       \"記憶\"      "
            ],
            "text/latex": "\\begin{enumerate*}\n\\item '人民網'\n\\item '東京'\n\\item '日電'\n\\item '日本'\n\\item '頻道'\n\\item '綜合'\n\\item '日本'\n\\item '時尚'\n\\item '娛樂網'\n\\item '報導'\n\\item '乃木坂'\n\\item '特別節目'\n\\item '最'\n\\item '喜歡'\n\\item '乃木坂'\n\\item '出道'\n\\item '回憶'\n\\item '猜謎'\n\\item '遊戲'\n\\item '公開'\n\\item '演唱會'\n\\item '珍藏'\n\\item '影像'\n\\item '於'\n\\item '頻道'\n\\item '獨家'\n\\item '播出'\n\\item '今年'\n\\item '乃木坂'\n\\item '出道'\n\\item '第年'\n\\item '節目'\n\\item '通過'\n\\item '猜謎'\n\\item '以往'\n\\item '演唱會'\n\\item '影像'\n\\item '回顧'\n\\item '她們'\n\\item '一路'\n\\item '走過'\n\\item '精彩'\n\\item '瞬間'\n\\item '搞笑'\n\\item '藝人'\n\\item '組合'\n\\item '成員'\n\\item '小門'\n\\item '建'\n\\item '太郎'\n\\item '中岡'\n\\item '創一'\n\\item '擔任'\n\\item '節目'\n\\item '主持人'\n\\item '成員們'\n\\item '觀看'\n\\item '乃木坂'\n\\item '七周年'\n\\item '及'\n\\item '八周年'\n\\item '演唱會'\n\\item '影像'\n\\item '回憶'\n\\item '當時'\n\\item '幕後'\n\\item '趣事'\n\\item '此前'\n\\item '三期'\n\\item '生梅澤美波'\n\\item '表示'\n\\item '這些'\n\\item '過去'\n\\item '輝煌'\n\\item '影像'\n\\item '成員們'\n\\item '畢業'\n\\item '新人'\n\\item '加入'\n\\item '都'\n\\item '一點一滴'\n\\item '刻畫'\n\\item '成'\n\\item '乃木坂'\n\\item '歷史'\n\\item '這年裡'\n\\item '歡笑'\n\\item '淚水'\n\\item '這是'\n\\item '包含著'\n\\item '各種'\n\\item '情感'\n\\item '我'\n\\item '希望'\n\\item '能'\n\\item '成員們'\n\\item '觀眾'\n\\item '朋友'\n\\item '們'\n\\item '一同'\n\\item '度過'\n\\item '這段'\n\\item '美好'\n\\item '時光'\n\\item '四期'\n\\item '生'\n\\item '賀喜'\n\\item '遙香'\n\\item '表示'\n\\item '雖然'\n\\item '我們'\n\\item '期生'\n\\item '最晚'\n\\item '加入'\n\\item '到'\n\\item '乃木坂'\n\\item '但是'\n\\item '我'\n\\item '對'\n\\item '乃木坂'\n\\item '愛並'\n\\item '不輸給'\n\\item '其他'\n\\item '成員'\n\\item '關於'\n\\item '回憶'\n\\item '猜謎'\n\\item '這一'\n\\item '環節'\n\\item '因為'\n\\item '我'\n\\item '總是'\n\\item '注視'\n\\item '著'\n\\item '各位'\n\\item '前輩們'\n\\item '同期生'\n\\item '我會'\n\\item '努力'\n\\item '回憶起'\n\\item '大家'\n\\item '相處'\n\\item '記憶'\n\\end{enumerate*}\n",
            "text/markdown": "1. '人民網'\n2. '東京'\n3. '日電'\n4. '日本'\n5. '頻道'\n6. '綜合'\n7. '日本'\n8. '時尚'\n9. '娛樂網'\n10. '報導'\n11. '乃木坂'\n12. '特別節目'\n13. '最'\n14. '喜歡'\n15. '乃木坂'\n16. '出道'\n17. '回憶'\n18. '猜謎'\n19. '遊戲'\n20. '公開'\n21. '演唱會'\n22. '珍藏'\n23. '影像'\n24. '於'\n25. '頻道'\n26. '獨家'\n27. '播出'\n28. '今年'\n29. '乃木坂'\n30. '出道'\n31. '第年'\n32. '節目'\n33. '通過'\n34. '猜謎'\n35. '以往'\n36. '演唱會'\n37. '影像'\n38. '回顧'\n39. '她們'\n40. '一路'\n41. '走過'\n42. '精彩'\n43. '瞬間'\n44. '搞笑'\n45. '藝人'\n46. '組合'\n47. '成員'\n48. '小門'\n49. '建'\n50. '太郎'\n51. '中岡'\n52. '創一'\n53. '擔任'\n54. '節目'\n55. '主持人'\n56. '成員們'\n57. '觀看'\n58. '乃木坂'\n59. '七周年'\n60. '及'\n61. '八周年'\n62. '演唱會'\n63. '影像'\n64. '回憶'\n65. '當時'\n66. '幕後'\n67. '趣事'\n68. '此前'\n69. '三期'\n70. '生梅澤美波'\n71. '表示'\n72. '這些'\n73. '過去'\n74. '輝煌'\n75. '影像'\n76. '成員們'\n77. '畢業'\n78. '新人'\n79. '加入'\n80. '都'\n81. '一點一滴'\n82. '刻畫'\n83. '成'\n84. '乃木坂'\n85. '歷史'\n86. '這年裡'\n87. '歡笑'\n88. '淚水'\n89. '這是'\n90. '包含著'\n91. '各種'\n92. '情感'\n93. '我'\n94. '希望'\n95. '能'\n96. '成員們'\n97. '觀眾'\n98. '朋友'\n99. '們'\n100. '一同'\n101. '度過'\n102. '這段'\n103. '美好'\n104. '時光'\n105. '四期'\n106. '生'\n107. '賀喜'\n108. '遙香'\n109. '表示'\n110. '雖然'\n111. '我們'\n112. '期生'\n113. '最晚'\n114. '加入'\n115. '到'\n116. '乃木坂'\n117. '但是'\n118. '我'\n119. '對'\n120. '乃木坂'\n121. '愛並'\n122. '不輸給'\n123. '其他'\n124. '成員'\n125. '關於'\n126. '回憶'\n127. '猜謎'\n128. '這一'\n129. '環節'\n130. '因為'\n131. '我'\n132. '總是'\n133. '注視'\n134. '著'\n135. '各位'\n136. '前輩們'\n137. '同期生'\n138. '我會'\n139. '努力'\n140. '回憶起'\n141. '大家'\n142. '相處'\n143. '記憶'\n\n\n",
            "text/html": [
              "<style>\n",
              ".list-inline {list-style: none; margin:0; padding: 0}\n",
              ".list-inline>li {display: inline-block}\n",
              ".list-inline>li:not(:last-child)::after {content: \"\\00b7\"; padding: 0 .5ex}\n",
              "</style>\n",
              "<ol class=list-inline><li>'人民網'</li><li>'東京'</li><li>'日電'</li><li>'日本'</li><li>'頻道'</li><li>'綜合'</li><li>'日本'</li><li>'時尚'</li><li>'娛樂網'</li><li>'報導'</li><li>'乃木坂'</li><li>'特別節目'</li><li>'最'</li><li>'喜歡'</li><li>'乃木坂'</li><li>'出道'</li><li>'回憶'</li><li>'猜謎'</li><li>'遊戲'</li><li>'公開'</li><li>'演唱會'</li><li>'珍藏'</li><li>'影像'</li><li>'於'</li><li>'頻道'</li><li>'獨家'</li><li>'播出'</li><li>'今年'</li><li>'乃木坂'</li><li>'出道'</li><li>'第年'</li><li>'節目'</li><li>'通過'</li><li>'猜謎'</li><li>'以往'</li><li>'演唱會'</li><li>'影像'</li><li>'回顧'</li><li>'她們'</li><li>'一路'</li><li>'走過'</li><li>'精彩'</li><li>'瞬間'</li><li>'搞笑'</li><li>'藝人'</li><li>'組合'</li><li>'成員'</li><li>'小門'</li><li>'建'</li><li>'太郎'</li><li>'中岡'</li><li>'創一'</li><li>'擔任'</li><li>'節目'</li><li>'主持人'</li><li>'成員們'</li><li>'觀看'</li><li>'乃木坂'</li><li>'七周年'</li><li>'及'</li><li>'八周年'</li><li>'演唱會'</li><li>'影像'</li><li>'回憶'</li><li>'當時'</li><li>'幕後'</li><li>'趣事'</li><li>'此前'</li><li>'三期'</li><li>'生梅澤美波'</li><li>'表示'</li><li>'這些'</li><li>'過去'</li><li>'輝煌'</li><li>'影像'</li><li>'成員們'</li><li>'畢業'</li><li>'新人'</li><li>'加入'</li><li>'都'</li><li>'一點一滴'</li><li>'刻畫'</li><li>'成'</li><li>'乃木坂'</li><li>'歷史'</li><li>'這年裡'</li><li>'歡笑'</li><li>'淚水'</li><li>'這是'</li><li>'包含著'</li><li>'各種'</li><li>'情感'</li><li>'我'</li><li>'希望'</li><li>'能'</li><li>'成員們'</li><li>'觀眾'</li><li>'朋友'</li><li>'們'</li><li>'一同'</li><li>'度過'</li><li>'這段'</li><li>'美好'</li><li>'時光'</li><li>'四期'</li><li>'生'</li><li>'賀喜'</li><li>'遙香'</li><li>'表示'</li><li>'雖然'</li><li>'我們'</li><li>'期生'</li><li>'最晚'</li><li>'加入'</li><li>'到'</li><li>'乃木坂'</li><li>'但是'</li><li>'我'</li><li>'對'</li><li>'乃木坂'</li><li>'愛並'</li><li>'不輸給'</li><li>'其他'</li><li>'成員'</li><li>'關於'</li><li>'回憶'</li><li>'猜謎'</li><li>'這一'</li><li>'環節'</li><li>'因為'</li><li>'我'</li><li>'總是'</li><li>'注視'</li><li>'著'</li><li>'各位'</li><li>'前輩們'</li><li>'同期生'</li><li>'我會'</li><li>'努力'</li><li>'回憶起'</li><li>'大家'</li><li>'相處'</li><li>'記憶'</li></ol>\n"
            ]
          },
          "metadata": {
            "tags": []
          }
        }
      ]
    },
    {
      "cell_type": "code",
      "metadata": {
        "id": "sLzOB6l_XWWI"
      },
      "source": [
        "txt_freq<-freq(seg_words)"
      ],
      "execution_count": 177,
      "outputs": []
    },
    {
      "cell_type": "code",
      "metadata": {
        "id": "eTF0pxLUX8id"
      },
      "source": [
        "txt_freq<-arrange(txt_freq,desc(freq))"
      ],
      "execution_count": 178,
      "outputs": []
    },
    {
      "cell_type": "code",
      "metadata": {
        "colab": {
          "base_uri": "https://localhost:8080/",
          "height": 274
        },
        "id": "px3CU6OtYWH_",
        "outputId": "23716c5c-c0b3-4139-fad4-367358d26307"
      },
      "source": [
        "head(txt_freq)"
      ],
      "execution_count": 179,
      "outputs": [
        {
          "output_type": "display_data",
          "data": {
            "text/plain": [
              "  char   freq\n",
              "1 乃木坂 7   \n",
              "2 影像   4   \n",
              "3 演唱會 3   \n",
              "4 回憶   3   \n",
              "5 我     3   \n",
              "6 猜謎   3   "
            ],
            "text/latex": "A data.frame: 6 × 2\n\\begin{tabular}{r|ll}\n  & char & freq\\\\\n  & <chr> & <dbl>\\\\\n\\hline\n\t1 & 乃木坂 & 7\\\\\n\t2 & 影像   & 4\\\\\n\t3 & 演唱會 & 3\\\\\n\t4 & 回憶   & 3\\\\\n\t5 & 我     & 3\\\\\n\t6 & 猜謎   & 3\\\\\n\\end{tabular}\n",
            "text/markdown": "\nA data.frame: 6 × 2\n\n| <!--/--> | char &lt;chr&gt; | freq &lt;dbl&gt; |\n|---|---|---|\n| 1 | 乃木坂 | 7 |\n| 2 | 影像   | 4 |\n| 3 | 演唱會 | 3 |\n| 4 | 回憶   | 3 |\n| 5 | 我     | 3 |\n| 6 | 猜謎   | 3 |\n\n",
            "text/html": [
              "<table class=\"dataframe\">\n",
              "<caption>A data.frame: 6 × 2</caption>\n",
              "<thead>\n",
              "\t<tr><th></th><th scope=col>char</th><th scope=col>freq</th></tr>\n",
              "\t<tr><th></th><th scope=col>&lt;chr&gt;</th><th scope=col>&lt;dbl&gt;</th></tr>\n",
              "</thead>\n",
              "<tbody>\n",
              "\t<tr><th scope=row>1</th><td>乃木坂</td><td>7</td></tr>\n",
              "\t<tr><th scope=row>2</th><td>影像  </td><td>4</td></tr>\n",
              "\t<tr><th scope=row>3</th><td>演唱會</td><td>3</td></tr>\n",
              "\t<tr><th scope=row>4</th><td>回憶  </td><td>3</td></tr>\n",
              "\t<tr><th scope=row>5</th><td>我    </td><td>3</td></tr>\n",
              "\t<tr><th scope=row>6</th><td>猜謎  </td><td>3</td></tr>\n",
              "</tbody>\n",
              "</table>\n"
            ]
          },
          "metadata": {
            "tags": []
          }
        }
      ]
    },
    {
      "cell_type": "code",
      "metadata": {
        "id": "YVpuwp2-YaYe"
      },
      "source": [
        "par(family=(\"Microsoft YaHei\"))\n"
      ],
      "execution_count": 180,
      "outputs": []
    },
    {
      "cell_type": "code",
      "metadata": {
        "colab": {
          "base_uri": "https://localhost:8080/",
          "height": 437
        },
        "id": "jQeRGd9cZe32",
        "outputId": "7ddf979c-6a5c-43a0-f446-7dee3bac9be0"
      },
      "source": [
        "wordcloud(txt_freq$char,txt_freq$freq,min.freq = 2,random.order = F,\n",
        "ordered.colors=F,colors=rainbow(nrow(txt_freq)))"
      ],
      "execution_count": 181,
      "outputs": [
        {
          "output_type": "display_data",
          "data": {
            "image/png": "[encoded data removed]",
            "text/plain": [
              "plot without title"
            ]
          },
          "metadata": {
            "tags": [],
            "image/png": {
              "width": 420,
              "height": 420
            }
          }
        }
      ]
    },
    {
      "cell_type": "code",
      "metadata": {
        "id": "h0qmWQJXaIJY"
      },
      "source": [
        "library(showtext)"
      ],
      "execution_count": 182,
      "outputs": []
    },
    {
      "cell_type": "code",
      "metadata": {
        "colab": {
          "base_uri": "https://localhost:8080/"
        },
        "id": "K5n7dcssap5V",
        "outputId": "117b60a4-2b08-4d3b-a649-a772e080363b"
      },
      "source": [
        "install.packages(\"showtext\")"
      ],
      "execution_count": 40,
      "outputs": [
        {
          "output_type": "stream",
          "text": [
            "Installing package into ‘/usr/local/lib/R/site-library’\n",
            "(as ‘lib’ is unspecified)\n",
            "\n"
          ],
          "name": "stderr"
        }
      ]
    },
    {
      "cell_type": "code",
      "metadata": {
        "id": "1xCJhva6ah8h"
      },
      "source": [
        "showtext.auto(enable=TRUE)"
      ],
      "execution_count": 43,
      "outputs": []
    }
  ]
}