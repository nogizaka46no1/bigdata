{
  "nbformat": 4,
  "nbformat_minor": 0,
  "metadata": {
    "colab": {
      "name": "「0309.ipynb」的副本",
      "provenance": [],
      "collapsed_sections": [],
      "include_colab_link": true
    },
    "kernelspec": {
      "name": "ir",
      "display_name": "R"
    }
  },
  "cells": [
    {
      "cell_type": "markdown",
      "metadata": {
        "id": "view-in-github",
        "colab_type": "text"
      },
      "source": [
        "<a href=\"https://colab.research.google.com/github/nogizaka46no1/bigdata/blob/main/%E3%80%8C0309_ipynb%E3%80%8D%E7%9A%84%E5%89%AF%E6%9C%AC.ipynb\" target=\"_parent\"><img src=\"https://colab.research.google.com/assets/colab-badge.svg\" alt=\"Open In Colab\"/></a>"
      ]
    },
    {
      "cell_type": "markdown",
      "metadata": {
        "id": "tJD5MMK9D3UN"
      },
      "source": [
        "變數練習\r\n"
      ]
    },
    {
      "cell_type": "code",
      "metadata": {
        "id": "ywlcdcizD6ms"
      },
      "source": [
        " \r\n",
        " a<- 5\r\n",
        " b<- 3.8\r\n",
        " c<- -1"
      ],
      "execution_count": 11,
      "outputs": []
    },
    {
      "cell_type": "code",
      "metadata": {
        "colab": {
          "base_uri": "https://localhost:8080/"
        },
        "id": "Gu0cJjJ9EGDk",
        "outputId": "eadf4a5d-0295-4843-fdb8-ca7fd7fa70ec"
      },
      "source": [
        "str(a)\r\n",
        "str(b)\r\n",
        "str(c)"
      ],
      "execution_count": 12,
      "outputs": [
        {
          "output_type": "stream",
          "text": [
            " num 5\n",
            " num 3.8\n",
            " num -1\n"
          ],
          "name": "stdout"
        }
      ]
    },
    {
      "cell_type": "code",
      "metadata": {
        "colab": {
          "base_uri": "https://localhost:8080/",
          "height": 35
        },
        "id": "Y1escCdlE90G",
        "outputId": "7c158dff-dc4e-452b-f5b9-3e13d36e420d"
      },
      "source": [
        "is.numeric(a)"
      ],
      "execution_count": 13,
      "outputs": [
        {
          "output_type": "display_data",
          "data": {
            "text/plain": [
              "[1] TRUE"
            ],
            "text/latex": "TRUE",
            "text/markdown": "TRUE",
            "text/html": [
              "TRUE"
            ]
          },
          "metadata": {
            "tags": []
          }
        }
      ]
    },
    {
      "cell_type": "code",
      "metadata": {
        "colab": {
          "base_uri": "https://localhost:8080/",
          "height": 35
        },
        "id": "lgF1efdgIbzk",
        "outputId": "17680b88-a106-45b5-d4e8-ac6c1a3f37a4"
      },
      "source": [
        "is.integer(a\r\n",
        ")"
      ],
      "execution_count": 14,
      "outputs": [
        {
          "output_type": "display_data",
          "data": {
            "text/plain": [
              "[1] FALSE"
            ],
            "text/latex": "FALSE",
            "text/markdown": "FALSE",
            "text/html": [
              "FALSE"
            ]
          },
          "metadata": {
            "tags": []
          }
        }
      ]
    },
    {
      "cell_type": "code",
      "metadata": {
        "id": "gsG8CRwdIscC"
      },
      "source": [
        "d <-\"hello\"\r\n",
        "e <-\"hi\""
      ],
      "execution_count": 17,
      "outputs": []
    },
    {
      "cell_type": "code",
      "metadata": {
        "colab": {
          "base_uri": "https://localhost:8080/"
        },
        "id": "lNOMvKkUJIJc",
        "outputId": "bda53b7f-beac-4a89-e49e-cae1adb994bf"
      },
      "source": [
        "str(d)\r\n",
        "str(e)"
      ],
      "execution_count": 18,
      "outputs": [
        {
          "output_type": "stream",
          "text": [
            " chr \"hello\"\n",
            " chr \"hi\"\n"
          ],
          "name": "stdout"
        }
      ]
    },
    {
      "cell_type": "code",
      "metadata": {
        "id": "HfLF9aQSJMBm"
      },
      "source": [
        "f <- c(\"好累\",\"蔡英文\",\"好爛\")\r\n",
        "g <- c(1,2,3,4,5)\r\n"
      ],
      "execution_count": 22,
      "outputs": []
    },
    {
      "cell_type": "code",
      "metadata": {
        "colab": {
          "base_uri": "https://localhost:8080/",
          "height": 35
        },
        "id": "oPik36_VKeWS",
        "outputId": "470e26d7-074d-4555-a526-f95bbdda910e"
      },
      "source": [
        "f[c(1,2,3)]"
      ],
      "execution_count": 29,
      "outputs": [
        {
          "output_type": "display_data",
          "data": {
            "text/plain": [
              "[1] \"好累\"   \"蔡英文\" \"好爛\"  "
            ],
            "text/latex": "\\begin{enumerate*}\n\\item '好累'\n\\item '蔡英文'\n\\item '好爛'\n\\end{enumerate*}\n",
            "text/markdown": "1. '好累'\n2. '蔡英文'\n3. '好爛'\n\n\n",
            "text/html": [
              "<style>\n",
              ".list-inline {list-style: none; margin:0; padding: 0}\n",
              ".list-inline>li {display: inline-block}\n",
              ".list-inline>li:not(:last-child)::after {content: \"\\00b7\"; padding: 0 .5ex}\n",
              "</style>\n",
              "<ol class=list-inline><li>'好累'</li><li>'蔡英文'</li><li>'好爛'</li></ol>\n"
            ]
          },
          "metadata": {
            "tags": []
          }
        }
      ]
    },
    {
      "cell_type": "code",
      "metadata": {
        "id": "tPmZD_wZNHZN"
      },
      "source": [
        "h <- c(1,2,3,4,5,6,7,8,9)\r\n",
        "i <- c(2,3,4,5,6,7,8,9,10)\r\n"
      ],
      "execution_count": 36,
      "outputs": []
    },
    {
      "cell_type": "code",
      "metadata": {
        "id": "iKEzCPg6NbWD"
      },
      "source": [
        ""
      ],
      "execution_count": null,
      "outputs": []
    },
    {
      "cell_type": "code",
      "metadata": {
        "colab": {
          "base_uri": "https://localhost:8080/",
          "height": 87
        },
        "id": "RSJKE2nlNWR5",
        "outputId": "2eebaa28-4df3-420c-cdcb-332f98a3e0fe"
      },
      "source": [
        "h*i\r\n",
        "h^2\r\n",
        "h^3\r\n",
        "i>3\r\n"
      ],
      "execution_count": 40,
      "outputs": [
        {
          "output_type": "display_data",
          "data": {
            "text/plain": [
              "[1]  2  6 12 20 30 42 56 72 90"
            ],
            "text/latex": "\\begin{enumerate*}\n\\item 2\n\\item 6\n\\item 12\n\\item 20\n\\item 30\n\\item 42\n\\item 56\n\\item 72\n\\item 90\n\\end{enumerate*}\n",
            "text/markdown": "1. 2\n2. 6\n3. 12\n4. 20\n5. 30\n6. 42\n7. 56\n8. 72\n9. 90\n\n\n",
            "text/html": [
              "<style>\n",
              ".list-inline {list-style: none; margin:0; padding: 0}\n",
              ".list-inline>li {display: inline-block}\n",
              ".list-inline>li:not(:last-child)::after {content: \"\\00b7\"; padding: 0 .5ex}\n",
              "</style>\n",
              "<ol class=list-inline><li>2</li><li>6</li><li>12</li><li>20</li><li>30</li><li>42</li><li>56</li><li>72</li><li>90</li></ol>\n"
            ]
          },
          "metadata": {
            "tags": []
          }
        },
        {
          "output_type": "display_data",
          "data": {
            "text/plain": [
              "[1]  1  4  9 16 25 36 49 64 81"
            ],
            "text/latex": "\\begin{enumerate*}\n\\item 1\n\\item 4\n\\item 9\n\\item 16\n\\item 25\n\\item 36\n\\item 49\n\\item 64\n\\item 81\n\\end{enumerate*}\n",
            "text/markdown": "1. 1\n2. 4\n3. 9\n4. 16\n5. 25\n6. 36\n7. 49\n8. 64\n9. 81\n\n\n",
            "text/html": [
              "<style>\n",
              ".list-inline {list-style: none; margin:0; padding: 0}\n",
              ".list-inline>li {display: inline-block}\n",
              ".list-inline>li:not(:last-child)::after {content: \"\\00b7\"; padding: 0 .5ex}\n",
              "</style>\n",
              "<ol class=list-inline><li>1</li><li>4</li><li>9</li><li>16</li><li>25</li><li>36</li><li>49</li><li>64</li><li>81</li></ol>\n"
            ]
          },
          "metadata": {
            "tags": []
          }
        },
        {
          "output_type": "display_data",
          "data": {
            "text/plain": [
              "[1]   1   8  27  64 125 216 343 512 729"
            ],
            "text/latex": "\\begin{enumerate*}\n\\item 1\n\\item 8\n\\item 27\n\\item 64\n\\item 125\n\\item 216\n\\item 343\n\\item 512\n\\item 729\n\\end{enumerate*}\n",
            "text/markdown": "1. 1\n2. 8\n3. 27\n4. 64\n5. 125\n6. 216\n7. 343\n8. 512\n9. 729\n\n\n",
            "text/html": [
              "<style>\n",
              ".list-inline {list-style: none; margin:0; padding: 0}\n",
              ".list-inline>li {display: inline-block}\n",
              ".list-inline>li:not(:last-child)::after {content: \"\\00b7\"; padding: 0 .5ex}\n",
              "</style>\n",
              "<ol class=list-inline><li>1</li><li>8</li><li>27</li><li>64</li><li>125</li><li>216</li><li>343</li><li>512</li><li>729</li></ol>\n"
            ]
          },
          "metadata": {
            "tags": []
          }
        },
        {
          "output_type": "display_data",
          "data": {
            "text/plain": [
              "[1] FALSE FALSE  TRUE  TRUE  TRUE  TRUE  TRUE  TRUE  TRUE"
            ],
            "text/latex": "\\begin{enumerate*}\n\\item FALSE\n\\item FALSE\n\\item TRUE\n\\item TRUE\n\\item TRUE\n\\item TRUE\n\\item TRUE\n\\item TRUE\n\\item TRUE\n\\end{enumerate*}\n",
            "text/markdown": "1. FALSE\n2. FALSE\n3. TRUE\n4. TRUE\n5. TRUE\n6. TRUE\n7. TRUE\n8. TRUE\n9. TRUE\n\n\n",
            "text/html": [
              "<style>\n",
              ".list-inline {list-style: none; margin:0; padding: 0}\n",
              ".list-inline>li {display: inline-block}\n",
              ".list-inline>li:not(:last-child)::after {content: \"\\00b7\"; padding: 0 .5ex}\n",
              "</style>\n",
              "<ol class=list-inline><li>FALSE</li><li>FALSE</li><li>TRUE</li><li>TRUE</li><li>TRUE</li><li>TRUE</li><li>TRUE</li><li>TRUE</li><li>TRUE</li></ol>\n"
            ]
          },
          "metadata": {
            "tags": []
          }
        }
      ]
    },
    {
      "cell_type": "code",
      "metadata": {
        "id": "oRt3FFZTOhw5"
      },
      "source": [
        "gender <- c(\"男\",\"女\",\"男\",\"女\",\"中\")\r\n"
      ],
      "execution_count": null,
      "outputs": []
    },
    {
      "cell_type": "code",
      "metadata": {
        "id": "8oOO1uwaPz2S"
      },
      "source": [
        "gender <- factor (gender)"
      ],
      "execution_count": 44,
      "outputs": []
    },
    {
      "cell_type": "code",
      "metadata": {
        "colab": {
          "base_uri": "https://localhost:8080/",
          "height": 35
        },
        "id": "fdGbeH0MQBia",
        "outputId": "336f1b29-035d-49ac-82a2-8e6fdccb13d0"
      },
      "source": [
        "levels(gender\r\n",
        ")"
      ],
      "execution_count": 45,
      "outputs": [
        {
          "output_type": "display_data",
          "data": {
            "text/plain": [
              "[1] \"中\" \"女\" \"男\""
            ],
            "text/latex": "\\begin{enumerate*}\n\\item '中'\n\\item '女'\n\\item '男'\n\\end{enumerate*}\n",
            "text/markdown": "1. '中'\n2. '女'\n3. '男'\n\n\n",
            "text/html": [
              "<style>\n",
              ".list-inline {list-style: none; margin:0; padding: 0}\n",
              ".list-inline>li {display: inline-block}\n",
              ".list-inline>li:not(:last-child)::after {content: \"\\00b7\"; padding: 0 .5ex}\n",
              "</style>\n",
              "<ol class=list-inline><li>'中'</li><li>'女'</li><li>'男'</li></ol>\n"
            ]
          },
          "metadata": {
            "tags": []
          }
        }
      ]
    },
    {
      "cell_type": "code",
      "metadata": {
        "id": "h9tIi-bVQmsH"
      },
      "source": [
        "j <- matrix(c(1:6),nrow=3,ncol=2)\r\n",
        "k <- matrix(c(7:12),nrow=2,ncol=3)"
      ],
      "execution_count": 47,
      "outputs": []
    },
    {
      "cell_type": "code",
      "metadata": {
        "colab": {
          "base_uri": "https://localhost:8080/",
          "height": 69
        },
        "id": "unJuEvvlRYNo",
        "outputId": "3a057f3f-f18a-4cca-8f76-e8cc5b748a92"
      },
      "source": [
        "j[2,2]\r\n",
        "j[2,]\r\n",
        "j[,2]"
      ],
      "execution_count": 48,
      "outputs": [
        {
          "output_type": "display_data",
          "data": {
            "text/plain": [
              "[1] 5"
            ],
            "text/latex": "5",
            "text/markdown": "5",
            "text/html": [
              "5"
            ]
          },
          "metadata": {
            "tags": []
          }
        },
        {
          "output_type": "display_data",
          "data": {
            "text/plain": [
              "[1] 2 5"
            ],
            "text/latex": "\\begin{enumerate*}\n\\item 2\n\\item 5\n\\end{enumerate*}\n",
            "text/markdown": "1. 2\n2. 5\n\n\n",
            "text/html": [
              "<style>\n",
              ".list-inline {list-style: none; margin:0; padding: 0}\n",
              ".list-inline>li {display: inline-block}\n",
              ".list-inline>li:not(:last-child)::after {content: \"\\00b7\"; padding: 0 .5ex}\n",
              "</style>\n",
              "<ol class=list-inline><li>2</li><li>5</li></ol>\n"
            ]
          },
          "metadata": {
            "tags": []
          }
        },
        {
          "output_type": "display_data",
          "data": {
            "text/plain": [
              "[1] 4 5 6"
            ],
            "text/latex": "\\begin{enumerate*}\n\\item 4\n\\item 5\n\\item 6\n\\end{enumerate*}\n",
            "text/markdown": "1. 4\n2. 5\n3. 6\n\n\n",
            "text/html": [
              "<style>\n",
              ".list-inline {list-style: none; margin:0; padding: 0}\n",
              ".list-inline>li {display: inline-block}\n",
              ".list-inline>li:not(:last-child)::after {content: \"\\00b7\"; padding: 0 .5ex}\n",
              "</style>\n",
              "<ol class=list-inline><li>4</li><li>5</li><li>6</li></ol>\n"
            ]
          },
          "metadata": {
            "tags": []
          }
        }
      ]
    },
    {
      "cell_type": "code",
      "metadata": {
        "colab": {
          "base_uri": "https://localhost:8080/",
          "height": 69
        },
        "id": "ElVckcctRwn4",
        "outputId": "b61323e4-d3e5-4b6f-d519-ab7db733d362"
      },
      "source": [
        "k[2,2]\r\n",
        "k[2,]\r\n",
        "k[,2]"
      ],
      "execution_count": 49,
      "outputs": [
        {
          "output_type": "display_data",
          "data": {
            "text/plain": [
              "[1] 10"
            ],
            "text/latex": "10",
            "text/markdown": "10",
            "text/html": [
              "10"
            ]
          },
          "metadata": {
            "tags": []
          }
        },
        {
          "output_type": "display_data",
          "data": {
            "text/plain": [
              "[1]  8 10 12"
            ],
            "text/latex": "\\begin{enumerate*}\n\\item 8\n\\item 10\n\\item 12\n\\end{enumerate*}\n",
            "text/markdown": "1. 8\n2. 10\n3. 12\n\n\n",
            "text/html": [
              "<style>\n",
              ".list-inline {list-style: none; margin:0; padding: 0}\n",
              ".list-inline>li {display: inline-block}\n",
              ".list-inline>li:not(:last-child)::after {content: \"\\00b7\"; padding: 0 .5ex}\n",
              "</style>\n",
              "<ol class=list-inline><li>8</li><li>10</li><li>12</li></ol>\n"
            ]
          },
          "metadata": {
            "tags": []
          }
        },
        {
          "output_type": "display_data",
          "data": {
            "text/plain": [
              "[1]  9 10"
            ],
            "text/latex": "\\begin{enumerate*}\n\\item 9\n\\item 10\n\\end{enumerate*}\n",
            "text/markdown": "1. 9\n2. 10\n\n\n",
            "text/html": [
              "<style>\n",
              ".list-inline {list-style: none; margin:0; padding: 0}\n",
              ".list-inline>li {display: inline-block}\n",
              ".list-inline>li:not(:last-child)::after {content: \"\\00b7\"; padding: 0 .5ex}\n",
              "</style>\n",
              "<ol class=list-inline><li>9</li><li>10</li></ol>\n"
            ]
          },
          "metadata": {
            "tags": []
          }
        }
      ]
    },
    {
      "cell_type": "code",
      "metadata": {
        "colab": {
          "base_uri": "https://localhost:8080/"
        },
        "id": "jddAC5U4R0ed",
        "outputId": "fbe7424e-141d-4121-b512-312b796adb78"
      },
      "source": [
        "install.packages(\"SportsAnalytics\")\r\n"
      ],
      "execution_count": 58,
      "outputs": [
        {
          "output_type": "stream",
          "text": [
            "Installing package into ‘/usr/local/lib/R/site-library’\n",
            "(as ‘lib’ is unspecified)\n",
            "\n"
          ],
          "name": "stderr"
        }
      ]
    },
    {
      "cell_type": "code",
      "metadata": {
        "id": "QXh3KoIrXVBh"
      },
      "source": [
        "library(SportsAnalytics)\r\n"
      ],
      "execution_count": 59,
      "outputs": []
    },
    {
      "cell_type": "code",
      "metadata": {
        "id": "g4jkrvJUSRW7"
      },
      "source": [
        "\r\n",
        "NBA1516<-fetch_NBAPlayerStatistics(\"15-16\")"
      ],
      "execution_count": 60,
      "outputs": []
    },
    {
      "cell_type": "code",
      "metadata": {
        "colab": {
          "base_uri": "https://localhost:8080/",
          "height": 1000
        },
        "id": "ELCzAmLVX2IR",
        "outputId": "63580bb5-0243-4bba-d45d-70f9cd0781ef"
      },
      "source": [
        "NBA1516order<-NBA1516[order(NBA1516$GamesPlayed,decreasing =T),]\r\n",
        "NBA1516order[1:20]"
      ],
      "execution_count": 68,
      "outputs": [
        {
          "output_type": "display_data",
          "data": {
            "text/plain": [
              "    League Name             Team Position GamesPlayed TotalMinutesPlayed\n",
              "11  NBA    Al-farouq Aminu  POR  SF       82          2342              \n",
              "37  NBA    Will Barton      DEN  SG       82          2355              \n",
              "48  NBA    Bismack Biyombo  TOR  PF       82          1810              \n",
              "62  NBA    Corey Brewer     HOU  SG       82          1670              \n",
              "118 NBA    Gorgui Dieng     MIN  C        82          2222              \n",
              "148 NBA    Langsto Galloway NYK  PG       82          2032              \n",
              "178 NBA    James Harden     HOU  SG       82          3121              \n",
              "208 NBA    Al Horford       ATL  PF       82          2638              \n",
              "246 NBA    Enes Kanter      OKL  C        82          1721              \n",
              "259 NBA    Zach Lavine      MIN  PG       82          2295              \n",
              "272 NBA    Robin Lopez      NYK  C        82          2213              \n",
              "320 NBA    Shabazz Muhammad MIN  SF       82          1678              \n",
              "357 NBA    Mason Plumlee    POR  PF       82          2087              \n",
              "394 NBA    Ramon Sessions   WAS  PG       82          1667              \n",
              "422 NBA    Isaiah Thomas    BOS  PG       82          2647              \n",
              "427 NBA    Tristan Thompson CLE  C        82          2269              \n",
              "431 NBA    Karl-antho Towns MIN  C        82          2621              \n",
              "432 NBA    P.j. Tucker      PHO  SF       82          2540              \n",
              "24  NBA    Trevor Ariza     HOU  SF       81          2860              \n",
              "41  NBA    Aron Baynes      DET  PF       81          1241              \n",
              "100 NBA    Allen Crabbe     POR  SF       81          2111              \n",
              "109 NBA    Ed Davis         POR  PF       81          1684              \n",
              "122 NBA    Andre Drummond   DET  C        81          2664              \n",
              "123 NBA    Jared Dudley     WAS  SG       81          2098              \n",
              "131 NBA    Monta Ellis      IND  PG       81          2733              \n",
              "143 NBA    Randy Foye       OKC  SG       81          1640              \n",
              "154 NBA    Paul George      IND  SF       81          2828              \n",
              "167 NBA    Draymond Green   GSW  SF       81          2807              \n",
              "194 NBA    Roy Hibbert      LAL  C        81          1881              \n",
              "217 NBA    Joe Ingles       UTA  SF       81          1241              \n",
              "⋮   ⋮      ⋮                ⋮    ⋮        ⋮           ⋮                 \n",
              "163 NBA    Andre Goudelock  HOU  PG       8            51               \n",
              "224 NBA    Cory Jefferson   PHO  PF       8            52               \n",
              "412 NBA    Alex Stepheson   MEM  SF       8            72               \n",
              "470 NBA    Tony Wroten      PHI  SG       8           145               \n",
              "233 NBA    Orlando Johnson  NOR  SG       7           102               \n",
              "250 NBA    M Kidd-gilchrist CHA  SF       7           205               \n",
              "413 NBA    Jarnell Stokes   NOR  C        7            18               \n",
              "450 NBA    Briante Weber    MIA  PG       7           170               \n",
              "455 NBA    Shay Whittington IND  PF       7            41               \n",
              "75  NBA    Bruno Caboclo    TOR  SF       6            43               \n",
              "110 NBA    Branden Dawson   LAC  SF       6            28               \n",
              "145 NBA    Jimmer Fredette  NYK  PG       6            17               \n",
              "23  NBA    Keith Appling    ORL  PG       5            27               \n",
              "180 NBA    Justin Harper    DET  PF       5            35               \n",
              "184 NBA    Joe Harris       CLE  SG       5            15               \n",
              "211 NBA    Josh Huestis     OKL  SF       5            55               \n",
              "270 NBA    Kevon Looney     GSW  SF       5            21               \n",
              "309 NBA    Nazr Mohammed    OKL  C        5            20               \n",
              "461 NBA    Elliot Williams  MEM  SG       5            46               \n",
              "89  NBA    Coty Clarke      BOS  NA       4             8               \n",
              "20  NBA    Th Antetokounmpo NYK  SF       3             7               \n",
              "113 NBA    Sam Dekker       HOU  SF       3             7               \n",
              "298 NBA    Jodie Meeks      DET  SG       3            44               \n",
              "2   NBA    Jordan Adams     MEM  SG       2            15               \n",
              "189 NBA    Chuck Hayes      HOU  PF       2            24               \n",
              "377 NBA    Nate Robinson    NOR  PG       2            23               \n",
              "87  NBA    Rakeem Christmas IND  PF       1             6               \n",
              "124 NBA    Duje Dukan       SAC  PF       1            24               \n",
              "238 NBA    Dahntay Jones    CLE  SG       1            42               \n",
              "335 NBA    J.j. O'brien     UTA  SF       1             2               \n",
              "    FieldGoalsMade FieldGoalsAttempted ThreesMade ThreesAttempted\n",
              "11  299             719                126        349            \n",
              "37  426             984                112        324            \n",
              "48  156             288                  0          1            \n",
              "62  212             552                 61        225            \n",
              "118 308             578                  6         20            \n",
              "148 231             588                 77        224            \n",
              "178 710            1617                236        656            \n",
              "208 529            1049                 88        257            \n",
              "246 415             720                 10         21            \n",
              "259 433             960                123        316            \n",
              "272 357             662                  0          1            \n",
              "320 317             681                 44        152            \n",
              "357 267             517                  0          4            \n",
              "394 280             592                 36        111            \n",
              "422 591            1382                167        465            \n",
              "427 247             420                  0          0            \n",
              "431 625            1152                 30         88            \n",
              "432 239             582                 68        206            \n",
              "24  357             858                185        497            \n",
              "41  194             384                  0          2            \n",
              "100 312             678                112        284            \n",
              "109 206             337                  0          0            \n",
              "122 552            1061                  2          6            \n",
              "123 233             487                100        239            \n",
              "131 436            1021                 87        281            \n",
              "143 168             481                 75        250            \n",
              "154 605            1448                210        565            \n",
              "167 401             819                100        258            \n",
              "194 182             411                  0          2            \n",
              "217 124             291                 81        210            \n",
              "⋮   ⋮              ⋮                   ⋮          ⋮              \n",
              "163  9             20                  1           9             \n",
              "224  9             22                  0           1             \n",
              "412  9             27                  0           0             \n",
              "470 22             65                  3          17             \n",
              "233  9             35                  2          11             \n",
              "250 33             61                  3           7             \n",
              "413  3              5                  0           0             \n",
              "450 14             39                  0           5             \n",
              "455  5             11                  0           2             \n",
              "75   1             12                  1           7             \n",
              "110  2              5                  0           0             \n",
              "145  2              5                  1           2             \n",
              "23   2              8                  0           3             \n",
              "180  4             10                  4           9             \n",
              "184  1              4                  1           4             \n",
              "211  5             12                  4           6             \n",
              "270  4              7                  1           2             \n",
              "309  3              5                  0           0             \n",
              "461  2             10                  1           4             \n",
              "89   2              4                  2           2             \n",
              "20   3              4                  0           1             \n",
              "113  0              0                  0           0             \n",
              "298  7             20                  4           9             \n",
              "2    2              6                  0           1             \n",
              "189  1              2                  0           0             \n",
              "377  0              1                  0           1             \n",
              "87   2              2                  0           0             \n",
              "124  2             10                  2           5             \n",
              "238  6             14                  1           2             \n",
              "335  0              1                  0           0             \n",
              "    FreeThrowsMade FreeThrowsAttempted OffensiveRebounds TotalRebounds Assists\n",
              "11  115            156                  98                498          138    \n",
              "37  216            268                  60                477          204    \n",
              "48  142            226                 182                655           29    \n",
              "62  105            140                  42                199          109    \n",
              "118 205            248                 156                584          143    \n",
              "148  86            114                  43                288          207    \n",
              "178 720            837                  63                502          612    \n",
              "208 103            129                 148                597          263    \n",
              "246 200            251                 250                665           33    \n",
              "259 161            203                  28                229          252    \n",
              "272 128            161                 268                602          114    \n",
              "320 185            242                 100                267           52    \n",
              "357 215            335                 201                628          226    \n",
              "394 214            283                  26                204          240    \n",
              "422 474            544                  46                243          509    \n",
              "427 149            242                 268                738           63    \n",
              "431 223            275                 226                854          161    \n",
              "432 106            142                 165                512          177    \n",
              "24  126            161                  67                366          188    \n",
              "41  126            165                 140                384           51    \n",
              "100  98            113                  27                216           99    \n",
              "109 114            204                 224                599           88    \n",
              "122 208            586                 395               1198           67    \n",
              "123  72             98                  54                286          170    \n",
              "131 162            206                  42                272          382    \n",
              "143  61             74                  24                156          160    \n",
              "154 454            528                  79                563          329    \n",
              "167 229            329                 130                765          597    \n",
              "194 117            145                 131                398           95    \n",
              "217  13             18                  19                151           96    \n",
              "⋮   ⋮              ⋮                   ⋮                 ⋮             ⋮      \n",
              "163  3              4                   1                 2             4     \n",
              "224  4              6                   6                16             0     \n",
              "412  4             12                  19                28             2     \n",
              "470 20             37                   2                21            20     \n",
              "233  6              8                   4                15             2     \n",
              "250 20             29                  12                45             9     \n",
              "413  1              2                   1                 4             1     \n",
              "450  3              4                   8                25            21     \n",
              "455  1              2                   5                12             3     \n",
              "75   0              0                   1                 2             1     \n",
              "110  1              1                   2                 4             0     \n",
              "145  4              5                   0                 0             0     \n",
              "23   2              2                   0                 1             1     \n",
              "180  1              2                   0                 1             0     \n",
              "184  0              0                   0                 3             2     \n",
              "211  0              4                   2                10             0     \n",
              "270  0              0                   4                10             0     \n",
              "309  2              2                   1                 4             0     \n",
              "461  3              4                   1                 4             4     \n",
              "89   0              0                   0                 1             0     \n",
              "20   0              0                   0                 1             0     \n",
              "113  0              0                   0                 1             0     \n",
              "298  4              4                   1                 5             3     \n",
              "2    3              5                   0                 2             3     \n",
              "189  2              2                   0                 8             2     \n",
              "377  0              0                   0                 0             4     \n",
              "87   0              0                   1                 1             0     \n",
              "124  0              0                   2                 4             1     \n",
              "238  0              0                   1                 5             2     \n",
              "335  0              0                   0                 0             0     \n",
              "    Steals Turnovers Blocks PersonalFouls Disqualifications\n",
              "11   72    120        53    171           0                \n",
              "37   71    139        39    147           0                \n",
              "48   19     71       133    225           2                \n",
              "62   84     78        19    168           1                \n",
              "118  94    140        96    219           0                \n",
              "148  77     61        22    177           2                \n",
              "178 138    374        51    229           1                \n",
              "208  67    107       122    163           0                \n",
              "246  26    115        33    166           1                \n",
              "259  69    155        17    193           1                \n",
              "272  16    133       129    182           2                \n",
              "320  24     70         7     94           0                \n",
              "357  68    154        82    253           4                \n",
              "394  47    115         5    102           0                \n",
              "422  91    220         9    167           1                \n",
              "427  38     61        51    202           0                \n",
              "431  58    183       138    245           1                \n",
              "432 106    111        20    202           3                \n",
              "24  161    113        26    177           0                \n",
              "41   21     67        52    151           0                \n",
              "100  63     64        16    192           2                \n",
              "109  57     64        72    202           2                \n",
              "122 119    154       112    245           2                \n",
              "123  75     80        18    190           1                \n",
              "131 149    203        38    174           0                \n",
              "143  39     86        29    131           0                \n",
              "154 152    265        29    230           1                \n",
              "167 118    259       111    240           2                \n",
              "194  32     76       110    252           3                \n",
              "217  55     65         4     98           0                \n",
              "⋮   ⋮      ⋮         ⋮      ⋮             ⋮                \n",
              "163 6       7        2       4            0                \n",
              "224 0       0        1       8            0                \n",
              "412 1       0        5      12            1                \n",
              "470 3      29        0      11            0                \n",
              "233 3       4        3       9            0                \n",
              "250 3       8        3       9            0                \n",
              "413 1       0        0       1            0                \n",
              "450 9       9        3      12            0                \n",
              "455 1       5        1       7            0                \n",
              "75  2       4        1       2            0                \n",
              "110 0       0        1       2            0                \n",
              "145 1       2        0       2            0                \n",
              "23  1       3        0       5            0                \n",
              "180 1       2        0       3            0                \n",
              "184 0       1        0       1            0                \n",
              "211 1       3        2       3            0                \n",
              "270 0       1        0       2            0                \n",
              "309 0       3        0       4            0                \n",
              "461 1       1        0       2            0                \n",
              "89  0       1        0       0            0                \n",
              "20  0       0        0       2            0                \n",
              "113 1       0        0       0            0                \n",
              "298 0       1        0       2            0                \n",
              "2   3       2        0       2            0                \n",
              "189 0       3        0       6            0                \n",
              "377 1       0        0       5            0                \n",
              "87  0       0        0       1            0                \n",
              "124 1       0        0       2            0                \n",
              "238 1       0        2       6            1                \n",
              "335 0       0        0       0            0                "
            ],
            "text/latex": "A data.frame: 476 × 20\n\\begin{tabular}{r|llllllllllllllllllll}\n  & League & Name & Team & Position & GamesPlayed & TotalMinutesPlayed & FieldGoalsMade & FieldGoalsAttempted & ThreesMade & ThreesAttempted & FreeThrowsMade & FreeThrowsAttempted & OffensiveRebounds & TotalRebounds & Assists & Steals & Turnovers & Blocks & PersonalFouls & Disqualifications\\\\\n  & <fct> & <chr> & <fct> & <fct> & <int> & <int> & <int> & <int> & <int> & <int> & <int> & <int> & <int> & <int> & <int> & <int> & <int> & <int> & <int> & <int>\\\\\n\\hline\n\t11 & NBA & Al-farouq Aminu  & POR & SF & 82 & 2342 & 299 &  719 & 126 & 349 & 115 & 156 &  98 &  498 & 138 &  72 & 120 &  53 & 171 & 0\\\\\n\t37 & NBA & Will Barton      & DEN & SG & 82 & 2355 & 426 &  984 & 112 & 324 & 216 & 268 &  60 &  477 & 204 &  71 & 139 &  39 & 147 & 0\\\\\n\t48 & NBA & Bismack Biyombo  & TOR & PF & 82 & 1810 & 156 &  288 &   0 &   1 & 142 & 226 & 182 &  655 &  29 &  19 &  71 & 133 & 225 & 2\\\\\n\t62 & NBA & Corey Brewer     & HOU & SG & 82 & 1670 & 212 &  552 &  61 & 225 & 105 & 140 &  42 &  199 & 109 &  84 &  78 &  19 & 168 & 1\\\\\n\t118 & NBA & Gorgui Dieng     & MIN & C  & 82 & 2222 & 308 &  578 &   6 &  20 & 205 & 248 & 156 &  584 & 143 &  94 & 140 &  96 & 219 & 0\\\\\n\t148 & NBA & Langsto Galloway & NYK & PG & 82 & 2032 & 231 &  588 &  77 & 224 &  86 & 114 &  43 &  288 & 207 &  77 &  61 &  22 & 177 & 2\\\\\n\t178 & NBA & James Harden     & HOU & SG & 82 & 3121 & 710 & 1617 & 236 & 656 & 720 & 837 &  63 &  502 & 612 & 138 & 374 &  51 & 229 & 1\\\\\n\t208 & NBA & Al Horford       & ATL & PF & 82 & 2638 & 529 & 1049 &  88 & 257 & 103 & 129 & 148 &  597 & 263 &  67 & 107 & 122 & 163 & 0\\\\\n\t246 & NBA & Enes Kanter      & OKL & C  & 82 & 1721 & 415 &  720 &  10 &  21 & 200 & 251 & 250 &  665 &  33 &  26 & 115 &  33 & 166 & 1\\\\\n\t259 & NBA & Zach Lavine      & MIN & PG & 82 & 2295 & 433 &  960 & 123 & 316 & 161 & 203 &  28 &  229 & 252 &  69 & 155 &  17 & 193 & 1\\\\\n\t272 & NBA & Robin Lopez      & NYK & C  & 82 & 2213 & 357 &  662 &   0 &   1 & 128 & 161 & 268 &  602 & 114 &  16 & 133 & 129 & 182 & 2\\\\\n\t320 & NBA & Shabazz Muhammad & MIN & SF & 82 & 1678 & 317 &  681 &  44 & 152 & 185 & 242 & 100 &  267 &  52 &  24 &  70 &   7 &  94 & 0\\\\\n\t357 & NBA & Mason Plumlee    & POR & PF & 82 & 2087 & 267 &  517 &   0 &   4 & 215 & 335 & 201 &  628 & 226 &  68 & 154 &  82 & 253 & 4\\\\\n\t394 & NBA & Ramon Sessions   & WAS & PG & 82 & 1667 & 280 &  592 &  36 & 111 & 214 & 283 &  26 &  204 & 240 &  47 & 115 &   5 & 102 & 0\\\\\n\t422 & NBA & Isaiah Thomas    & BOS & PG & 82 & 2647 & 591 & 1382 & 167 & 465 & 474 & 544 &  46 &  243 & 509 &  91 & 220 &   9 & 167 & 1\\\\\n\t427 & NBA & Tristan Thompson & CLE & C  & 82 & 2269 & 247 &  420 &   0 &   0 & 149 & 242 & 268 &  738 &  63 &  38 &  61 &  51 & 202 & 0\\\\\n\t431 & NBA & Karl-antho Towns & MIN & C  & 82 & 2621 & 625 & 1152 &  30 &  88 & 223 & 275 & 226 &  854 & 161 &  58 & 183 & 138 & 245 & 1\\\\\n\t432 & NBA & P.j. Tucker      & PHO & SF & 82 & 2540 & 239 &  582 &  68 & 206 & 106 & 142 & 165 &  512 & 177 & 106 & 111 &  20 & 202 & 3\\\\\n\t24 & NBA & Trevor Ariza     & HOU & SF & 81 & 2860 & 357 &  858 & 185 & 497 & 126 & 161 &  67 &  366 & 188 & 161 & 113 &  26 & 177 & 0\\\\\n\t41 & NBA & Aron Baynes      & DET & PF & 81 & 1241 & 194 &  384 &   0 &   2 & 126 & 165 & 140 &  384 &  51 &  21 &  67 &  52 & 151 & 0\\\\\n\t100 & NBA & Allen Crabbe     & POR & SF & 81 & 2111 & 312 &  678 & 112 & 284 &  98 & 113 &  27 &  216 &  99 &  63 &  64 &  16 & 192 & 2\\\\\n\t109 & NBA & Ed Davis         & POR & PF & 81 & 1684 & 206 &  337 &   0 &   0 & 114 & 204 & 224 &  599 &  88 &  57 &  64 &  72 & 202 & 2\\\\\n\t122 & NBA & Andre Drummond   & DET & C  & 81 & 2664 & 552 & 1061 &   2 &   6 & 208 & 586 & 395 & 1198 &  67 & 119 & 154 & 112 & 245 & 2\\\\\n\t123 & NBA & Jared Dudley     & WAS & SG & 81 & 2098 & 233 &  487 & 100 & 239 &  72 &  98 &  54 &  286 & 170 &  75 &  80 &  18 & 190 & 1\\\\\n\t131 & NBA & Monta Ellis      & IND & PG & 81 & 2733 & 436 & 1021 &  87 & 281 & 162 & 206 &  42 &  272 & 382 & 149 & 203 &  38 & 174 & 0\\\\\n\t143 & NBA & Randy Foye       & OKC & SG & 81 & 1640 & 168 &  481 &  75 & 250 &  61 &  74 &  24 &  156 & 160 &  39 &  86 &  29 & 131 & 0\\\\\n\t154 & NBA & Paul George      & IND & SF & 81 & 2828 & 605 & 1448 & 210 & 565 & 454 & 528 &  79 &  563 & 329 & 152 & 265 &  29 & 230 & 1\\\\\n\t167 & NBA & Draymond Green   & GSW & SF & 81 & 2807 & 401 &  819 & 100 & 258 & 229 & 329 & 130 &  765 & 597 & 118 & 259 & 111 & 240 & 2\\\\\n\t194 & NBA & Roy Hibbert      & LAL & C  & 81 & 1881 & 182 &  411 &   0 &   2 & 117 & 145 & 131 &  398 &  95 &  32 &  76 & 110 & 252 & 3\\\\\n\t217 & NBA & Joe Ingles       & UTA & SF & 81 & 1241 & 124 &  291 &  81 & 210 &  13 &  18 &  19 &  151 &  96 &  55 &  65 &   4 &  98 & 0\\\\\n\t⋮ & ⋮ & ⋮ & ⋮ & ⋮ & ⋮ & ⋮ & ⋮ & ⋮ & ⋮ & ⋮ & ⋮ & ⋮ & ⋮ & ⋮ & ⋮ & ⋮ & ⋮ & ⋮ & ⋮ & ⋮\\\\\n\t163 & NBA & Andre Goudelock  & HOU & PG & 8 &  51 &  9 & 20 & 1 &  9 &  3 &  4 &  1 &  2 &  4 & 6 &  7 & 2 &  4 & 0\\\\\n\t224 & NBA & Cory Jefferson   & PHO & PF & 8 &  52 &  9 & 22 & 0 &  1 &  4 &  6 &  6 & 16 &  0 & 0 &  0 & 1 &  8 & 0\\\\\n\t412 & NBA & Alex Stepheson   & MEM & SF & 8 &  72 &  9 & 27 & 0 &  0 &  4 & 12 & 19 & 28 &  2 & 1 &  0 & 5 & 12 & 1\\\\\n\t470 & NBA & Tony Wroten      & PHI & SG & 8 & 145 & 22 & 65 & 3 & 17 & 20 & 37 &  2 & 21 & 20 & 3 & 29 & 0 & 11 & 0\\\\\n\t233 & NBA & Orlando Johnson  & NOR & SG & 7 & 102 &  9 & 35 & 2 & 11 &  6 &  8 &  4 & 15 &  2 & 3 &  4 & 3 &  9 & 0\\\\\n\t250 & NBA & M Kidd-gilchrist & CHA & SF & 7 & 205 & 33 & 61 & 3 &  7 & 20 & 29 & 12 & 45 &  9 & 3 &  8 & 3 &  9 & 0\\\\\n\t413 & NBA & Jarnell Stokes   & NOR & C  & 7 &  18 &  3 &  5 & 0 &  0 &  1 &  2 &  1 &  4 &  1 & 1 &  0 & 0 &  1 & 0\\\\\n\t450 & NBA & Briante Weber    & MIA & PG & 7 & 170 & 14 & 39 & 0 &  5 &  3 &  4 &  8 & 25 & 21 & 9 &  9 & 3 & 12 & 0\\\\\n\t455 & NBA & Shay Whittington & IND & PF & 7 &  41 &  5 & 11 & 0 &  2 &  1 &  2 &  5 & 12 &  3 & 1 &  5 & 1 &  7 & 0\\\\\n\t75 & NBA & Bruno Caboclo    & TOR & SF & 6 &  43 &  1 & 12 & 1 &  7 &  0 &  0 &  1 &  2 &  1 & 2 &  4 & 1 &  2 & 0\\\\\n\t110 & NBA & Branden Dawson   & LAC & SF & 6 &  28 &  2 &  5 & 0 &  0 &  1 &  1 &  2 &  4 &  0 & 0 &  0 & 1 &  2 & 0\\\\\n\t145 & NBA & Jimmer Fredette  & NYK & PG & 6 &  17 &  2 &  5 & 1 &  2 &  4 &  5 &  0 &  0 &  0 & 1 &  2 & 0 &  2 & 0\\\\\n\t23 & NBA & Keith Appling    & ORL & PG & 5 &  27 &  2 &  8 & 0 &  3 &  2 &  2 &  0 &  1 &  1 & 1 &  3 & 0 &  5 & 0\\\\\n\t180 & NBA & Justin Harper    & DET & PF & 5 &  35 &  4 & 10 & 4 &  9 &  1 &  2 &  0 &  1 &  0 & 1 &  2 & 0 &  3 & 0\\\\\n\t184 & NBA & Joe Harris       & CLE & SG & 5 &  15 &  1 &  4 & 1 &  4 &  0 &  0 &  0 &  3 &  2 & 0 &  1 & 0 &  1 & 0\\\\\n\t211 & NBA & Josh Huestis     & OKL & SF & 5 &  55 &  5 & 12 & 4 &  6 &  0 &  4 &  2 & 10 &  0 & 1 &  3 & 2 &  3 & 0\\\\\n\t270 & NBA & Kevon Looney     & GSW & SF & 5 &  21 &  4 &  7 & 1 &  2 &  0 &  0 &  4 & 10 &  0 & 0 &  1 & 0 &  2 & 0\\\\\n\t309 & NBA & Nazr Mohammed    & OKL & C  & 5 &  20 &  3 &  5 & 0 &  0 &  2 &  2 &  1 &  4 &  0 & 0 &  3 & 0 &  4 & 0\\\\\n\t461 & NBA & Elliot Williams  & MEM & SG & 5 &  46 &  2 & 10 & 1 &  4 &  3 &  4 &  1 &  4 &  4 & 1 &  1 & 0 &  2 & 0\\\\\n\t89 & NBA & Coty Clarke      & BOS & NA & 4 &   8 &  2 &  4 & 2 &  2 &  0 &  0 &  0 &  1 &  0 & 0 &  1 & 0 &  0 & 0\\\\\n\t20 & NBA & Th Antetokounmpo & NYK & SF & 3 &   7 &  3 &  4 & 0 &  1 &  0 &  0 &  0 &  1 &  0 & 0 &  0 & 0 &  2 & 0\\\\\n\t113 & NBA & Sam Dekker       & HOU & SF & 3 &   7 &  0 &  0 & 0 &  0 &  0 &  0 &  0 &  1 &  0 & 1 &  0 & 0 &  0 & 0\\\\\n\t298 & NBA & Jodie Meeks      & DET & SG & 3 &  44 &  7 & 20 & 4 &  9 &  4 &  4 &  1 &  5 &  3 & 0 &  1 & 0 &  2 & 0\\\\\n\t2 & NBA & Jordan Adams     & MEM & SG & 2 &  15 &  2 &  6 & 0 &  1 &  3 &  5 &  0 &  2 &  3 & 3 &  2 & 0 &  2 & 0\\\\\n\t189 & NBA & Chuck Hayes      & HOU & PF & 2 &  24 &  1 &  2 & 0 &  0 &  2 &  2 &  0 &  8 &  2 & 0 &  3 & 0 &  6 & 0\\\\\n\t377 & NBA & Nate Robinson    & NOR & PG & 2 &  23 &  0 &  1 & 0 &  1 &  0 &  0 &  0 &  0 &  4 & 1 &  0 & 0 &  5 & 0\\\\\n\t87 & NBA & Rakeem Christmas & IND & PF & 1 &   6 &  2 &  2 & 0 &  0 &  0 &  0 &  1 &  1 &  0 & 0 &  0 & 0 &  1 & 0\\\\\n\t124 & NBA & Duje Dukan       & SAC & PF & 1 &  24 &  2 & 10 & 2 &  5 &  0 &  0 &  2 &  4 &  1 & 1 &  0 & 0 &  2 & 0\\\\\n\t238 & NBA & Dahntay Jones    & CLE & SG & 1 &  42 &  6 & 14 & 1 &  2 &  0 &  0 &  1 &  5 &  2 & 1 &  0 & 2 &  6 & 1\\\\\n\t335 & NBA & J.j. O'brien     & UTA & SF & 1 &   2 &  0 &  1 & 0 &  0 &  0 &  0 &  0 &  0 &  0 & 0 &  0 & 0 &  0 & 0\\\\\n\\end{tabular}\n",
            "text/markdown": "\nA data.frame: 476 × 20\n\n| <!--/--> | League &lt;fct&gt; | Name &lt;chr&gt; | Team &lt;fct&gt; | Position &lt;fct&gt; | GamesPlayed &lt;int&gt; | TotalMinutesPlayed &lt;int&gt; | FieldGoalsMade &lt;int&gt; | FieldGoalsAttempted &lt;int&gt; | ThreesMade &lt;int&gt; | ThreesAttempted &lt;int&gt; | FreeThrowsMade &lt;int&gt; | FreeThrowsAttempted &lt;int&gt; | OffensiveRebounds &lt;int&gt; | TotalRebounds &lt;int&gt; | Assists &lt;int&gt; | Steals &lt;int&gt; | Turnovers &lt;int&gt; | Blocks &lt;int&gt; | PersonalFouls &lt;int&gt; | Disqualifications &lt;int&gt; |\n|---|---|---|---|---|---|---|---|---|---|---|---|---|---|---|---|---|---|---|---|---|\n| 11 | NBA | Al-farouq Aminu  | POR | SF | 82 | 2342 | 299 |  719 | 126 | 349 | 115 | 156 |  98 |  498 | 138 |  72 | 120 |  53 | 171 | 0 |\n| 37 | NBA | Will Barton      | DEN | SG | 82 | 2355 | 426 |  984 | 112 | 324 | 216 | 268 |  60 |  477 | 204 |  71 | 139 |  39 | 147 | 0 |\n| 48 | NBA | Bismack Biyombo  | TOR | PF | 82 | 1810 | 156 |  288 |   0 |   1 | 142 | 226 | 182 |  655 |  29 |  19 |  71 | 133 | 225 | 2 |\n| 62 | NBA | Corey Brewer     | HOU | SG | 82 | 1670 | 212 |  552 |  61 | 225 | 105 | 140 |  42 |  199 | 109 |  84 |  78 |  19 | 168 | 1 |\n| 118 | NBA | Gorgui Dieng     | MIN | C  | 82 | 2222 | 308 |  578 |   6 |  20 | 205 | 248 | 156 |  584 | 143 |  94 | 140 |  96 | 219 | 0 |\n| 148 | NBA | Langsto Galloway | NYK | PG | 82 | 2032 | 231 |  588 |  77 | 224 |  86 | 114 |  43 |  288 | 207 |  77 |  61 |  22 | 177 | 2 |\n| 178 | NBA | James Harden     | HOU | SG | 82 | 3121 | 710 | 1617 | 236 | 656 | 720 | 837 |  63 |  502 | 612 | 138 | 374 |  51 | 229 | 1 |\n| 208 | NBA | Al Horford       | ATL | PF | 82 | 2638 | 529 | 1049 |  88 | 257 | 103 | 129 | 148 |  597 | 263 |  67 | 107 | 122 | 163 | 0 |\n| 246 | NBA | Enes Kanter      | OKL | C  | 82 | 1721 | 415 |  720 |  10 |  21 | 200 | 251 | 250 |  665 |  33 |  26 | 115 |  33 | 166 | 1 |\n| 259 | NBA | Zach Lavine      | MIN | PG | 82 | 2295 | 433 |  960 | 123 | 316 | 161 | 203 |  28 |  229 | 252 |  69 | 155 |  17 | 193 | 1 |\n| 272 | NBA | Robin Lopez      | NYK | C  | 82 | 2213 | 357 |  662 |   0 |   1 | 128 | 161 | 268 |  602 | 114 |  16 | 133 | 129 | 182 | 2 |\n| 320 | NBA | Shabazz Muhammad | MIN | SF | 82 | 1678 | 317 |  681 |  44 | 152 | 185 | 242 | 100 |  267 |  52 |  24 |  70 |   7 |  94 | 0 |\n| 357 | NBA | Mason Plumlee    | POR | PF | 82 | 2087 | 267 |  517 |   0 |   4 | 215 | 335 | 201 |  628 | 226 |  68 | 154 |  82 | 253 | 4 |\n| 394 | NBA | Ramon Sessions   | WAS | PG | 82 | 1667 | 280 |  592 |  36 | 111 | 214 | 283 |  26 |  204 | 240 |  47 | 115 |   5 | 102 | 0 |\n| 422 | NBA | Isaiah Thomas    | BOS | PG | 82 | 2647 | 591 | 1382 | 167 | 465 | 474 | 544 |  46 |  243 | 509 |  91 | 220 |   9 | 167 | 1 |\n| 427 | NBA | Tristan Thompson | CLE | C  | 82 | 2269 | 247 |  420 |   0 |   0 | 149 | 242 | 268 |  738 |  63 |  38 |  61 |  51 | 202 | 0 |\n| 431 | NBA | Karl-antho Towns | MIN | C  | 82 | 2621 | 625 | 1152 |  30 |  88 | 223 | 275 | 226 |  854 | 161 |  58 | 183 | 138 | 245 | 1 |\n| 432 | NBA | P.j. Tucker      | PHO | SF | 82 | 2540 | 239 |  582 |  68 | 206 | 106 | 142 | 165 |  512 | 177 | 106 | 111 |  20 | 202 | 3 |\n| 24 | NBA | Trevor Ariza     | HOU | SF | 81 | 2860 | 357 |  858 | 185 | 497 | 126 | 161 |  67 |  366 | 188 | 161 | 113 |  26 | 177 | 0 |\n| 41 | NBA | Aron Baynes      | DET | PF | 81 | 1241 | 194 |  384 |   0 |   2 | 126 | 165 | 140 |  384 |  51 |  21 |  67 |  52 | 151 | 0 |\n| 100 | NBA | Allen Crabbe     | POR | SF | 81 | 2111 | 312 |  678 | 112 | 284 |  98 | 113 |  27 |  216 |  99 |  63 |  64 |  16 | 192 | 2 |\n| 109 | NBA | Ed Davis         | POR | PF | 81 | 1684 | 206 |  337 |   0 |   0 | 114 | 204 | 224 |  599 |  88 |  57 |  64 |  72 | 202 | 2 |\n| 122 | NBA | Andre Drummond   | DET | C  | 81 | 2664 | 552 | 1061 |   2 |   6 | 208 | 586 | 395 | 1198 |  67 | 119 | 154 | 112 | 245 | 2 |\n| 123 | NBA | Jared Dudley     | WAS | SG | 81 | 2098 | 233 |  487 | 100 | 239 |  72 |  98 |  54 |  286 | 170 |  75 |  80 |  18 | 190 | 1 |\n| 131 | NBA | Monta Ellis      | IND | PG | 81 | 2733 | 436 | 1021 |  87 | 281 | 162 | 206 |  42 |  272 | 382 | 149 | 203 |  38 | 174 | 0 |\n| 143 | NBA | Randy Foye       | OKC | SG | 81 | 1640 | 168 |  481 |  75 | 250 |  61 |  74 |  24 |  156 | 160 |  39 |  86 |  29 | 131 | 0 |\n| 154 | NBA | Paul George      | IND | SF | 81 | 2828 | 605 | 1448 | 210 | 565 | 454 | 528 |  79 |  563 | 329 | 152 | 265 |  29 | 230 | 1 |\n| 167 | NBA | Draymond Green   | GSW | SF | 81 | 2807 | 401 |  819 | 100 | 258 | 229 | 329 | 130 |  765 | 597 | 118 | 259 | 111 | 240 | 2 |\n| 194 | NBA | Roy Hibbert      | LAL | C  | 81 | 1881 | 182 |  411 |   0 |   2 | 117 | 145 | 131 |  398 |  95 |  32 |  76 | 110 | 252 | 3 |\n| 217 | NBA | Joe Ingles       | UTA | SF | 81 | 1241 | 124 |  291 |  81 | 210 |  13 |  18 |  19 |  151 |  96 |  55 |  65 |   4 |  98 | 0 |\n| ⋮ | ⋮ | ⋮ | ⋮ | ⋮ | ⋮ | ⋮ | ⋮ | ⋮ | ⋮ | ⋮ | ⋮ | ⋮ | ⋮ | ⋮ | ⋮ | ⋮ | ⋮ | ⋮ | ⋮ | ⋮ |\n| 163 | NBA | Andre Goudelock  | HOU | PG | 8 |  51 |  9 | 20 | 1 |  9 |  3 |  4 |  1 |  2 |  4 | 6 |  7 | 2 |  4 | 0 |\n| 224 | NBA | Cory Jefferson   | PHO | PF | 8 |  52 |  9 | 22 | 0 |  1 |  4 |  6 |  6 | 16 |  0 | 0 |  0 | 1 |  8 | 0 |\n| 412 | NBA | Alex Stepheson   | MEM | SF | 8 |  72 |  9 | 27 | 0 |  0 |  4 | 12 | 19 | 28 |  2 | 1 |  0 | 5 | 12 | 1 |\n| 470 | NBA | Tony Wroten      | PHI | SG | 8 | 145 | 22 | 65 | 3 | 17 | 20 | 37 |  2 | 21 | 20 | 3 | 29 | 0 | 11 | 0 |\n| 233 | NBA | Orlando Johnson  | NOR | SG | 7 | 102 |  9 | 35 | 2 | 11 |  6 |  8 |  4 | 15 |  2 | 3 |  4 | 3 |  9 | 0 |\n| 250 | NBA | M Kidd-gilchrist | CHA | SF | 7 | 205 | 33 | 61 | 3 |  7 | 20 | 29 | 12 | 45 |  9 | 3 |  8 | 3 |  9 | 0 |\n| 413 | NBA | Jarnell Stokes   | NOR | C  | 7 |  18 |  3 |  5 | 0 |  0 |  1 |  2 |  1 |  4 |  1 | 1 |  0 | 0 |  1 | 0 |\n| 450 | NBA | Briante Weber    | MIA | PG | 7 | 170 | 14 | 39 | 0 |  5 |  3 |  4 |  8 | 25 | 21 | 9 |  9 | 3 | 12 | 0 |\n| 455 | NBA | Shay Whittington | IND | PF | 7 |  41 |  5 | 11 | 0 |  2 |  1 |  2 |  5 | 12 |  3 | 1 |  5 | 1 |  7 | 0 |\n| 75 | NBA | Bruno Caboclo    | TOR | SF | 6 |  43 |  1 | 12 | 1 |  7 |  0 |  0 |  1 |  2 |  1 | 2 |  4 | 1 |  2 | 0 |\n| 110 | NBA | Branden Dawson   | LAC | SF | 6 |  28 |  2 |  5 | 0 |  0 |  1 |  1 |  2 |  4 |  0 | 0 |  0 | 1 |  2 | 0 |\n| 145 | NBA | Jimmer Fredette  | NYK | PG | 6 |  17 |  2 |  5 | 1 |  2 |  4 |  5 |  0 |  0 |  0 | 1 |  2 | 0 |  2 | 0 |\n| 23 | NBA | Keith Appling    | ORL | PG | 5 |  27 |  2 |  8 | 0 |  3 |  2 |  2 |  0 |  1 |  1 | 1 |  3 | 0 |  5 | 0 |\n| 180 | NBA | Justin Harper    | DET | PF | 5 |  35 |  4 | 10 | 4 |  9 |  1 |  2 |  0 |  1 |  0 | 1 |  2 | 0 |  3 | 0 |\n| 184 | NBA | Joe Harris       | CLE | SG | 5 |  15 |  1 |  4 | 1 |  4 |  0 |  0 |  0 |  3 |  2 | 0 |  1 | 0 |  1 | 0 |\n| 211 | NBA | Josh Huestis     | OKL | SF | 5 |  55 |  5 | 12 | 4 |  6 |  0 |  4 |  2 | 10 |  0 | 1 |  3 | 2 |  3 | 0 |\n| 270 | NBA | Kevon Looney     | GSW | SF | 5 |  21 |  4 |  7 | 1 |  2 |  0 |  0 |  4 | 10 |  0 | 0 |  1 | 0 |  2 | 0 |\n| 309 | NBA | Nazr Mohammed    | OKL | C  | 5 |  20 |  3 |  5 | 0 |  0 |  2 |  2 |  1 |  4 |  0 | 0 |  3 | 0 |  4 | 0 |\n| 461 | NBA | Elliot Williams  | MEM | SG | 5 |  46 |  2 | 10 | 1 |  4 |  3 |  4 |  1 |  4 |  4 | 1 |  1 | 0 |  2 | 0 |\n| 89 | NBA | Coty Clarke      | BOS | NA | 4 |   8 |  2 |  4 | 2 |  2 |  0 |  0 |  0 |  1 |  0 | 0 |  1 | 0 |  0 | 0 |\n| 20 | NBA | Th Antetokounmpo | NYK | SF | 3 |   7 |  3 |  4 | 0 |  1 |  0 |  0 |  0 |  1 |  0 | 0 |  0 | 0 |  2 | 0 |\n| 113 | NBA | Sam Dekker       | HOU | SF | 3 |   7 |  0 |  0 | 0 |  0 |  0 |  0 |  0 |  1 |  0 | 1 |  0 | 0 |  0 | 0 |\n| 298 | NBA | Jodie Meeks      | DET | SG | 3 |  44 |  7 | 20 | 4 |  9 |  4 |  4 |  1 |  5 |  3 | 0 |  1 | 0 |  2 | 0 |\n| 2 | NBA | Jordan Adams     | MEM | SG | 2 |  15 |  2 |  6 | 0 |  1 |  3 |  5 |  0 |  2 |  3 | 3 |  2 | 0 |  2 | 0 |\n| 189 | NBA | Chuck Hayes      | HOU | PF | 2 |  24 |  1 |  2 | 0 |  0 |  2 |  2 |  0 |  8 |  2 | 0 |  3 | 0 |  6 | 0 |\n| 377 | NBA | Nate Robinson    | NOR | PG | 2 |  23 |  0 |  1 | 0 |  1 |  0 |  0 |  0 |  0 |  4 | 1 |  0 | 0 |  5 | 0 |\n| 87 | NBA | Rakeem Christmas | IND | PF | 1 |   6 |  2 |  2 | 0 |  0 |  0 |  0 |  1 |  1 |  0 | 0 |  0 | 0 |  1 | 0 |\n| 124 | NBA | Duje Dukan       | SAC | PF | 1 |  24 |  2 | 10 | 2 |  5 |  0 |  0 |  2 |  4 |  1 | 1 |  0 | 0 |  2 | 0 |\n| 238 | NBA | Dahntay Jones    | CLE | SG | 1 |  42 |  6 | 14 | 1 |  2 |  0 |  0 |  1 |  5 |  2 | 1 |  0 | 2 |  6 | 1 |\n| 335 | NBA | J.j. O'brien     | UTA | SF | 1 |   2 |  0 |  1 | 0 |  0 |  0 |  0 |  0 |  0 |  0 | 0 |  0 | 0 |  0 | 0 |\n\n",
            "text/html": [
              "<table class=\"dataframe\">\n",
              "<caption>A data.frame: 476 × 20</caption>\n",
              "<thead>\n",
              "\t<tr><th></th><th scope=col>League</th><th scope=col>Name</th><th scope=col>Team</th><th scope=col>Position</th><th scope=col>GamesPlayed</th><th scope=col>TotalMinutesPlayed</th><th scope=col>FieldGoalsMade</th><th scope=col>FieldGoalsAttempted</th><th scope=col>ThreesMade</th><th scope=col>ThreesAttempted</th><th scope=col>FreeThrowsMade</th><th scope=col>FreeThrowsAttempted</th><th scope=col>OffensiveRebounds</th><th scope=col>TotalRebounds</th><th scope=col>Assists</th><th scope=col>Steals</th><th scope=col>Turnovers</th><th scope=col>Blocks</th><th scope=col>PersonalFouls</th><th scope=col>Disqualifications</th></tr>\n",
              "\t<tr><th></th><th scope=col>&lt;fct&gt;</th><th scope=col>&lt;chr&gt;</th><th scope=col>&lt;fct&gt;</th><th scope=col>&lt;fct&gt;</th><th scope=col>&lt;int&gt;</th><th scope=col>&lt;int&gt;</th><th scope=col>&lt;int&gt;</th><th scope=col>&lt;int&gt;</th><th scope=col>&lt;int&gt;</th><th scope=col>&lt;int&gt;</th><th scope=col>&lt;int&gt;</th><th scope=col>&lt;int&gt;</th><th scope=col>&lt;int&gt;</th><th scope=col>&lt;int&gt;</th><th scope=col>&lt;int&gt;</th><th scope=col>&lt;int&gt;</th><th scope=col>&lt;int&gt;</th><th scope=col>&lt;int&gt;</th><th scope=col>&lt;int&gt;</th><th scope=col>&lt;int&gt;</th></tr>\n",
              "</thead>\n",
              "<tbody>\n",
              "\t<tr><th scope=row>11</th><td>NBA</td><td>Al-farouq Aminu </td><td>POR</td><td>SF</td><td>82</td><td>2342</td><td>299</td><td> 719</td><td>126</td><td>349</td><td>115</td><td>156</td><td> 98</td><td> 498</td><td>138</td><td> 72</td><td>120</td><td> 53</td><td>171</td><td>0</td></tr>\n",
              "\t<tr><th scope=row>37</th><td>NBA</td><td>Will Barton     </td><td>DEN</td><td>SG</td><td>82</td><td>2355</td><td>426</td><td> 984</td><td>112</td><td>324</td><td>216</td><td>268</td><td> 60</td><td> 477</td><td>204</td><td> 71</td><td>139</td><td> 39</td><td>147</td><td>0</td></tr>\n",
              "\t<tr><th scope=row>48</th><td>NBA</td><td>Bismack Biyombo </td><td>TOR</td><td>PF</td><td>82</td><td>1810</td><td>156</td><td> 288</td><td>  0</td><td>  1</td><td>142</td><td>226</td><td>182</td><td> 655</td><td> 29</td><td> 19</td><td> 71</td><td>133</td><td>225</td><td>2</td></tr>\n",
              "\t<tr><th scope=row>62</th><td>NBA</td><td>Corey Brewer    </td><td>HOU</td><td>SG</td><td>82</td><td>1670</td><td>212</td><td> 552</td><td> 61</td><td>225</td><td>105</td><td>140</td><td> 42</td><td> 199</td><td>109</td><td> 84</td><td> 78</td><td> 19</td><td>168</td><td>1</td></tr>\n",
              "\t<tr><th scope=row>118</th><td>NBA</td><td>Gorgui Dieng    </td><td>MIN</td><td>C </td><td>82</td><td>2222</td><td>308</td><td> 578</td><td>  6</td><td> 20</td><td>205</td><td>248</td><td>156</td><td> 584</td><td>143</td><td> 94</td><td>140</td><td> 96</td><td>219</td><td>0</td></tr>\n",
              "\t<tr><th scope=row>148</th><td>NBA</td><td>Langsto Galloway</td><td>NYK</td><td>PG</td><td>82</td><td>2032</td><td>231</td><td> 588</td><td> 77</td><td>224</td><td> 86</td><td>114</td><td> 43</td><td> 288</td><td>207</td><td> 77</td><td> 61</td><td> 22</td><td>177</td><td>2</td></tr>\n",
              "\t<tr><th scope=row>178</th><td>NBA</td><td>James Harden    </td><td>HOU</td><td>SG</td><td>82</td><td>3121</td><td>710</td><td>1617</td><td>236</td><td>656</td><td>720</td><td>837</td><td> 63</td><td> 502</td><td>612</td><td>138</td><td>374</td><td> 51</td><td>229</td><td>1</td></tr>\n",
              "\t<tr><th scope=row>208</th><td>NBA</td><td>Al Horford      </td><td>ATL</td><td>PF</td><td>82</td><td>2638</td><td>529</td><td>1049</td><td> 88</td><td>257</td><td>103</td><td>129</td><td>148</td><td> 597</td><td>263</td><td> 67</td><td>107</td><td>122</td><td>163</td><td>0</td></tr>\n",
              "\t<tr><th scope=row>246</th><td>NBA</td><td>Enes Kanter     </td><td>OKL</td><td>C </td><td>82</td><td>1721</td><td>415</td><td> 720</td><td> 10</td><td> 21</td><td>200</td><td>251</td><td>250</td><td> 665</td><td> 33</td><td> 26</td><td>115</td><td> 33</td><td>166</td><td>1</td></tr>\n",
              "\t<tr><th scope=row>259</th><td>NBA</td><td>Zach Lavine     </td><td>MIN</td><td>PG</td><td>82</td><td>2295</td><td>433</td><td> 960</td><td>123</td><td>316</td><td>161</td><td>203</td><td> 28</td><td> 229</td><td>252</td><td> 69</td><td>155</td><td> 17</td><td>193</td><td>1</td></tr>\n",
              "\t<tr><th scope=row>272</th><td>NBA</td><td>Robin Lopez     </td><td>NYK</td><td>C </td><td>82</td><td>2213</td><td>357</td><td> 662</td><td>  0</td><td>  1</td><td>128</td><td>161</td><td>268</td><td> 602</td><td>114</td><td> 16</td><td>133</td><td>129</td><td>182</td><td>2</td></tr>\n",
              "\t<tr><th scope=row>320</th><td>NBA</td><td>Shabazz Muhammad</td><td>MIN</td><td>SF</td><td>82</td><td>1678</td><td>317</td><td> 681</td><td> 44</td><td>152</td><td>185</td><td>242</td><td>100</td><td> 267</td><td> 52</td><td> 24</td><td> 70</td><td>  7</td><td> 94</td><td>0</td></tr>\n",
              "\t<tr><th scope=row>357</th><td>NBA</td><td>Mason Plumlee   </td><td>POR</td><td>PF</td><td>82</td><td>2087</td><td>267</td><td> 517</td><td>  0</td><td>  4</td><td>215</td><td>335</td><td>201</td><td> 628</td><td>226</td><td> 68</td><td>154</td><td> 82</td><td>253</td><td>4</td></tr>\n",
              "\t<tr><th scope=row>394</th><td>NBA</td><td>Ramon Sessions  </td><td>WAS</td><td>PG</td><td>82</td><td>1667</td><td>280</td><td> 592</td><td> 36</td><td>111</td><td>214</td><td>283</td><td> 26</td><td> 204</td><td>240</td><td> 47</td><td>115</td><td>  5</td><td>102</td><td>0</td></tr>\n",
              "\t<tr><th scope=row>422</th><td>NBA</td><td>Isaiah Thomas   </td><td>BOS</td><td>PG</td><td>82</td><td>2647</td><td>591</td><td>1382</td><td>167</td><td>465</td><td>474</td><td>544</td><td> 46</td><td> 243</td><td>509</td><td> 91</td><td>220</td><td>  9</td><td>167</td><td>1</td></tr>\n",
              "\t<tr><th scope=row>427</th><td>NBA</td><td>Tristan Thompson</td><td>CLE</td><td>C </td><td>82</td><td>2269</td><td>247</td><td> 420</td><td>  0</td><td>  0</td><td>149</td><td>242</td><td>268</td><td> 738</td><td> 63</td><td> 38</td><td> 61</td><td> 51</td><td>202</td><td>0</td></tr>\n",
              "\t<tr><th scope=row>431</th><td>NBA</td><td>Karl-antho Towns</td><td>MIN</td><td>C </td><td>82</td><td>2621</td><td>625</td><td>1152</td><td> 30</td><td> 88</td><td>223</td><td>275</td><td>226</td><td> 854</td><td>161</td><td> 58</td><td>183</td><td>138</td><td>245</td><td>1</td></tr>\n",
              "\t<tr><th scope=row>432</th><td>NBA</td><td>P.j. Tucker     </td><td>PHO</td><td>SF</td><td>82</td><td>2540</td><td>239</td><td> 582</td><td> 68</td><td>206</td><td>106</td><td>142</td><td>165</td><td> 512</td><td>177</td><td>106</td><td>111</td><td> 20</td><td>202</td><td>3</td></tr>\n",
              "\t<tr><th scope=row>24</th><td>NBA</td><td>Trevor Ariza    </td><td>HOU</td><td>SF</td><td>81</td><td>2860</td><td>357</td><td> 858</td><td>185</td><td>497</td><td>126</td><td>161</td><td> 67</td><td> 366</td><td>188</td><td>161</td><td>113</td><td> 26</td><td>177</td><td>0</td></tr>\n",
              "\t<tr><th scope=row>41</th><td>NBA</td><td>Aron Baynes     </td><td>DET</td><td>PF</td><td>81</td><td>1241</td><td>194</td><td> 384</td><td>  0</td><td>  2</td><td>126</td><td>165</td><td>140</td><td> 384</td><td> 51</td><td> 21</td><td> 67</td><td> 52</td><td>151</td><td>0</td></tr>\n",
              "\t<tr><th scope=row>100</th><td>NBA</td><td>Allen Crabbe    </td><td>POR</td><td>SF</td><td>81</td><td>2111</td><td>312</td><td> 678</td><td>112</td><td>284</td><td> 98</td><td>113</td><td> 27</td><td> 216</td><td> 99</td><td> 63</td><td> 64</td><td> 16</td><td>192</td><td>2</td></tr>\n",
              "\t<tr><th scope=row>109</th><td>NBA</td><td>Ed Davis        </td><td>POR</td><td>PF</td><td>81</td><td>1684</td><td>206</td><td> 337</td><td>  0</td><td>  0</td><td>114</td><td>204</td><td>224</td><td> 599</td><td> 88</td><td> 57</td><td> 64</td><td> 72</td><td>202</td><td>2</td></tr>\n",
              "\t<tr><th scope=row>122</th><td>NBA</td><td>Andre Drummond  </td><td>DET</td><td>C </td><td>81</td><td>2664</td><td>552</td><td>1061</td><td>  2</td><td>  6</td><td>208</td><td>586</td><td>395</td><td>1198</td><td> 67</td><td>119</td><td>154</td><td>112</td><td>245</td><td>2</td></tr>\n",
              "\t<tr><th scope=row>123</th><td>NBA</td><td>Jared Dudley    </td><td>WAS</td><td>SG</td><td>81</td><td>2098</td><td>233</td><td> 487</td><td>100</td><td>239</td><td> 72</td><td> 98</td><td> 54</td><td> 286</td><td>170</td><td> 75</td><td> 80</td><td> 18</td><td>190</td><td>1</td></tr>\n",
              "\t<tr><th scope=row>131</th><td>NBA</td><td>Monta Ellis     </td><td>IND</td><td>PG</td><td>81</td><td>2733</td><td>436</td><td>1021</td><td> 87</td><td>281</td><td>162</td><td>206</td><td> 42</td><td> 272</td><td>382</td><td>149</td><td>203</td><td> 38</td><td>174</td><td>0</td></tr>\n",
              "\t<tr><th scope=row>143</th><td>NBA</td><td>Randy Foye      </td><td>OKC</td><td>SG</td><td>81</td><td>1640</td><td>168</td><td> 481</td><td> 75</td><td>250</td><td> 61</td><td> 74</td><td> 24</td><td> 156</td><td>160</td><td> 39</td><td> 86</td><td> 29</td><td>131</td><td>0</td></tr>\n",
              "\t<tr><th scope=row>154</th><td>NBA</td><td>Paul George     </td><td>IND</td><td>SF</td><td>81</td><td>2828</td><td>605</td><td>1448</td><td>210</td><td>565</td><td>454</td><td>528</td><td> 79</td><td> 563</td><td>329</td><td>152</td><td>265</td><td> 29</td><td>230</td><td>1</td></tr>\n",
              "\t<tr><th scope=row>167</th><td>NBA</td><td>Draymond Green  </td><td>GSW</td><td>SF</td><td>81</td><td>2807</td><td>401</td><td> 819</td><td>100</td><td>258</td><td>229</td><td>329</td><td>130</td><td> 765</td><td>597</td><td>118</td><td>259</td><td>111</td><td>240</td><td>2</td></tr>\n",
              "\t<tr><th scope=row>194</th><td>NBA</td><td>Roy Hibbert     </td><td>LAL</td><td>C </td><td>81</td><td>1881</td><td>182</td><td> 411</td><td>  0</td><td>  2</td><td>117</td><td>145</td><td>131</td><td> 398</td><td> 95</td><td> 32</td><td> 76</td><td>110</td><td>252</td><td>3</td></tr>\n",
              "\t<tr><th scope=row>217</th><td>NBA</td><td>Joe Ingles      </td><td>UTA</td><td>SF</td><td>81</td><td>1241</td><td>124</td><td> 291</td><td> 81</td><td>210</td><td> 13</td><td> 18</td><td> 19</td><td> 151</td><td> 96</td><td> 55</td><td> 65</td><td>  4</td><td> 98</td><td>0</td></tr>\n",
              "\t<tr><th scope=row>⋮</th><td>⋮</td><td>⋮</td><td>⋮</td><td>⋮</td><td>⋮</td><td>⋮</td><td>⋮</td><td>⋮</td><td>⋮</td><td>⋮</td><td>⋮</td><td>⋮</td><td>⋮</td><td>⋮</td><td>⋮</td><td>⋮</td><td>⋮</td><td>⋮</td><td>⋮</td><td>⋮</td></tr>\n",
              "\t<tr><th scope=row>163</th><td>NBA</td><td>Andre Goudelock </td><td>HOU</td><td>PG</td><td>8</td><td> 51</td><td> 9</td><td>20</td><td>1</td><td> 9</td><td> 3</td><td> 4</td><td> 1</td><td> 2</td><td> 4</td><td>6</td><td> 7</td><td>2</td><td> 4</td><td>0</td></tr>\n",
              "\t<tr><th scope=row>224</th><td>NBA</td><td>Cory Jefferson  </td><td>PHO</td><td>PF</td><td>8</td><td> 52</td><td> 9</td><td>22</td><td>0</td><td> 1</td><td> 4</td><td> 6</td><td> 6</td><td>16</td><td> 0</td><td>0</td><td> 0</td><td>1</td><td> 8</td><td>0</td></tr>\n",
              "\t<tr><th scope=row>412</th><td>NBA</td><td>Alex Stepheson  </td><td>MEM</td><td>SF</td><td>8</td><td> 72</td><td> 9</td><td>27</td><td>0</td><td> 0</td><td> 4</td><td>12</td><td>19</td><td>28</td><td> 2</td><td>1</td><td> 0</td><td>5</td><td>12</td><td>1</td></tr>\n",
              "\t<tr><th scope=row>470</th><td>NBA</td><td>Tony Wroten     </td><td>PHI</td><td>SG</td><td>8</td><td>145</td><td>22</td><td>65</td><td>3</td><td>17</td><td>20</td><td>37</td><td> 2</td><td>21</td><td>20</td><td>3</td><td>29</td><td>0</td><td>11</td><td>0</td></tr>\n",
              "\t<tr><th scope=row>233</th><td>NBA</td><td>Orlando Johnson </td><td>NOR</td><td>SG</td><td>7</td><td>102</td><td> 9</td><td>35</td><td>2</td><td>11</td><td> 6</td><td> 8</td><td> 4</td><td>15</td><td> 2</td><td>3</td><td> 4</td><td>3</td><td> 9</td><td>0</td></tr>\n",
              "\t<tr><th scope=row>250</th><td>NBA</td><td>M Kidd-gilchrist</td><td>CHA</td><td>SF</td><td>7</td><td>205</td><td>33</td><td>61</td><td>3</td><td> 7</td><td>20</td><td>29</td><td>12</td><td>45</td><td> 9</td><td>3</td><td> 8</td><td>3</td><td> 9</td><td>0</td></tr>\n",
              "\t<tr><th scope=row>413</th><td>NBA</td><td>Jarnell Stokes  </td><td>NOR</td><td>C </td><td>7</td><td> 18</td><td> 3</td><td> 5</td><td>0</td><td> 0</td><td> 1</td><td> 2</td><td> 1</td><td> 4</td><td> 1</td><td>1</td><td> 0</td><td>0</td><td> 1</td><td>0</td></tr>\n",
              "\t<tr><th scope=row>450</th><td>NBA</td><td>Briante Weber   </td><td>MIA</td><td>PG</td><td>7</td><td>170</td><td>14</td><td>39</td><td>0</td><td> 5</td><td> 3</td><td> 4</td><td> 8</td><td>25</td><td>21</td><td>9</td><td> 9</td><td>3</td><td>12</td><td>0</td></tr>\n",
              "\t<tr><th scope=row>455</th><td>NBA</td><td>Shay Whittington</td><td>IND</td><td>PF</td><td>7</td><td> 41</td><td> 5</td><td>11</td><td>0</td><td> 2</td><td> 1</td><td> 2</td><td> 5</td><td>12</td><td> 3</td><td>1</td><td> 5</td><td>1</td><td> 7</td><td>0</td></tr>\n",
              "\t<tr><th scope=row>75</th><td>NBA</td><td>Bruno Caboclo   </td><td>TOR</td><td>SF</td><td>6</td><td> 43</td><td> 1</td><td>12</td><td>1</td><td> 7</td><td> 0</td><td> 0</td><td> 1</td><td> 2</td><td> 1</td><td>2</td><td> 4</td><td>1</td><td> 2</td><td>0</td></tr>\n",
              "\t<tr><th scope=row>110</th><td>NBA</td><td>Branden Dawson  </td><td>LAC</td><td>SF</td><td>6</td><td> 28</td><td> 2</td><td> 5</td><td>0</td><td> 0</td><td> 1</td><td> 1</td><td> 2</td><td> 4</td><td> 0</td><td>0</td><td> 0</td><td>1</td><td> 2</td><td>0</td></tr>\n",
              "\t<tr><th scope=row>145</th><td>NBA</td><td>Jimmer Fredette </td><td>NYK</td><td>PG</td><td>6</td><td> 17</td><td> 2</td><td> 5</td><td>1</td><td> 2</td><td> 4</td><td> 5</td><td> 0</td><td> 0</td><td> 0</td><td>1</td><td> 2</td><td>0</td><td> 2</td><td>0</td></tr>\n",
              "\t<tr><th scope=row>23</th><td>NBA</td><td>Keith Appling   </td><td>ORL</td><td>PG</td><td>5</td><td> 27</td><td> 2</td><td> 8</td><td>0</td><td> 3</td><td> 2</td><td> 2</td><td> 0</td><td> 1</td><td> 1</td><td>1</td><td> 3</td><td>0</td><td> 5</td><td>0</td></tr>\n",
              "\t<tr><th scope=row>180</th><td>NBA</td><td>Justin Harper   </td><td>DET</td><td>PF</td><td>5</td><td> 35</td><td> 4</td><td>10</td><td>4</td><td> 9</td><td> 1</td><td> 2</td><td> 0</td><td> 1</td><td> 0</td><td>1</td><td> 2</td><td>0</td><td> 3</td><td>0</td></tr>\n",
              "\t<tr><th scope=row>184</th><td>NBA</td><td>Joe Harris      </td><td>CLE</td><td>SG</td><td>5</td><td> 15</td><td> 1</td><td> 4</td><td>1</td><td> 4</td><td> 0</td><td> 0</td><td> 0</td><td> 3</td><td> 2</td><td>0</td><td> 1</td><td>0</td><td> 1</td><td>0</td></tr>\n",
              "\t<tr><th scope=row>211</th><td>NBA</td><td>Josh Huestis    </td><td>OKL</td><td>SF</td><td>5</td><td> 55</td><td> 5</td><td>12</td><td>4</td><td> 6</td><td> 0</td><td> 4</td><td> 2</td><td>10</td><td> 0</td><td>1</td><td> 3</td><td>2</td><td> 3</td><td>0</td></tr>\n",
              "\t<tr><th scope=row>270</th><td>NBA</td><td>Kevon Looney    </td><td>GSW</td><td>SF</td><td>5</td><td> 21</td><td> 4</td><td> 7</td><td>1</td><td> 2</td><td> 0</td><td> 0</td><td> 4</td><td>10</td><td> 0</td><td>0</td><td> 1</td><td>0</td><td> 2</td><td>0</td></tr>\n",
              "\t<tr><th scope=row>309</th><td>NBA</td><td>Nazr Mohammed   </td><td>OKL</td><td>C </td><td>5</td><td> 20</td><td> 3</td><td> 5</td><td>0</td><td> 0</td><td> 2</td><td> 2</td><td> 1</td><td> 4</td><td> 0</td><td>0</td><td> 3</td><td>0</td><td> 4</td><td>0</td></tr>\n",
              "\t<tr><th scope=row>461</th><td>NBA</td><td>Elliot Williams </td><td>MEM</td><td>SG</td><td>5</td><td> 46</td><td> 2</td><td>10</td><td>1</td><td> 4</td><td> 3</td><td> 4</td><td> 1</td><td> 4</td><td> 4</td><td>1</td><td> 1</td><td>0</td><td> 2</td><td>0</td></tr>\n",
              "\t<tr><th scope=row>89</th><td>NBA</td><td>Coty Clarke     </td><td>BOS</td><td>NA</td><td>4</td><td>  8</td><td> 2</td><td> 4</td><td>2</td><td> 2</td><td> 0</td><td> 0</td><td> 0</td><td> 1</td><td> 0</td><td>0</td><td> 1</td><td>0</td><td> 0</td><td>0</td></tr>\n",
              "\t<tr><th scope=row>20</th><td>NBA</td><td>Th Antetokounmpo</td><td>NYK</td><td>SF</td><td>3</td><td>  7</td><td> 3</td><td> 4</td><td>0</td><td> 1</td><td> 0</td><td> 0</td><td> 0</td><td> 1</td><td> 0</td><td>0</td><td> 0</td><td>0</td><td> 2</td><td>0</td></tr>\n",
              "\t<tr><th scope=row>113</th><td>NBA</td><td>Sam Dekker      </td><td>HOU</td><td>SF</td><td>3</td><td>  7</td><td> 0</td><td> 0</td><td>0</td><td> 0</td><td> 0</td><td> 0</td><td> 0</td><td> 1</td><td> 0</td><td>1</td><td> 0</td><td>0</td><td> 0</td><td>0</td></tr>\n",
              "\t<tr><th scope=row>298</th><td>NBA</td><td>Jodie Meeks     </td><td>DET</td><td>SG</td><td>3</td><td> 44</td><td> 7</td><td>20</td><td>4</td><td> 9</td><td> 4</td><td> 4</td><td> 1</td><td> 5</td><td> 3</td><td>0</td><td> 1</td><td>0</td><td> 2</td><td>0</td></tr>\n",
              "\t<tr><th scope=row>2</th><td>NBA</td><td>Jordan Adams    </td><td>MEM</td><td>SG</td><td>2</td><td> 15</td><td> 2</td><td> 6</td><td>0</td><td> 1</td><td> 3</td><td> 5</td><td> 0</td><td> 2</td><td> 3</td><td>3</td><td> 2</td><td>0</td><td> 2</td><td>0</td></tr>\n",
              "\t<tr><th scope=row>189</th><td>NBA</td><td>Chuck Hayes     </td><td>HOU</td><td>PF</td><td>2</td><td> 24</td><td> 1</td><td> 2</td><td>0</td><td> 0</td><td> 2</td><td> 2</td><td> 0</td><td> 8</td><td> 2</td><td>0</td><td> 3</td><td>0</td><td> 6</td><td>0</td></tr>\n",
              "\t<tr><th scope=row>377</th><td>NBA</td><td>Nate Robinson   </td><td>NOR</td><td>PG</td><td>2</td><td> 23</td><td> 0</td><td> 1</td><td>0</td><td> 1</td><td> 0</td><td> 0</td><td> 0</td><td> 0</td><td> 4</td><td>1</td><td> 0</td><td>0</td><td> 5</td><td>0</td></tr>\n",
              "\t<tr><th scope=row>87</th><td>NBA</td><td>Rakeem Christmas</td><td>IND</td><td>PF</td><td>1</td><td>  6</td><td> 2</td><td> 2</td><td>0</td><td> 0</td><td> 0</td><td> 0</td><td> 1</td><td> 1</td><td> 0</td><td>0</td><td> 0</td><td>0</td><td> 1</td><td>0</td></tr>\n",
              "\t<tr><th scope=row>124</th><td>NBA</td><td>Duje Dukan      </td><td>SAC</td><td>PF</td><td>1</td><td> 24</td><td> 2</td><td>10</td><td>2</td><td> 5</td><td> 0</td><td> 0</td><td> 2</td><td> 4</td><td> 1</td><td>1</td><td> 0</td><td>0</td><td> 2</td><td>0</td></tr>\n",
              "\t<tr><th scope=row>238</th><td>NBA</td><td>Dahntay Jones   </td><td>CLE</td><td>SG</td><td>1</td><td> 42</td><td> 6</td><td>14</td><td>1</td><td> 2</td><td> 0</td><td> 0</td><td> 1</td><td> 5</td><td> 2</td><td>1</td><td> 0</td><td>2</td><td> 6</td><td>1</td></tr>\n",
              "\t<tr><th scope=row>335</th><td>NBA</td><td>J.j. O'brien    </td><td>UTA</td><td>SF</td><td>1</td><td>  2</td><td> 0</td><td> 1</td><td>0</td><td> 0</td><td> 0</td><td> 0</td><td> 0</td><td> 0</td><td> 0</td><td>0</td><td> 0</td><td>0</td><td> 0</td><td>0</td></tr>\n",
              "</tbody>\n",
              "</table>\n"
            ]
          },
          "metadata": {
            "tags": []
          }
        }
      ]
    },
    {
      "cell_type": "code",
      "metadata": {
        "id": "CN_r1geRYHDu"
      },
      "source": [
        ""
      ],
      "execution_count": null,
      "outputs": []
    }
  ]
}